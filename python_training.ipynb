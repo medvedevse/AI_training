{
  "nbformat": 4,
  "nbformat_minor": 0,
  "metadata": {
    "colab": {
      "provenance": [],
      "authorship_tag": "ABX9TyOoBVH8rT0KE94f01Lga7Dz",
      "include_colab_link": true
    },
    "kernelspec": {
      "name": "python3",
      "display_name": "Python 3"
    },
    "language_info": {
      "name": "python"
    }
  },
  "cells": [
    {
      "cell_type": "markdown",
      "metadata": {
        "id": "view-in-github",
        "colab_type": "text"
      },
      "source": [
        "<a href=\"https://colab.research.google.com/github/medvedevse/AI_training/blob/main/StartML.ipynb\" target=\"_parent\"><img src=\"https://colab.research.google.com/assets/colab-badge.svg\" alt=\"Open In Colab\"/></a>"
      ]
    },
    {
      "cell_type": "code",
      "execution_count": null,
      "metadata": {
        "colab": {
          "base_uri": "https://localhost:8080/"
        },
        "id": "9t2Xs_WitmUO",
        "outputId": "514e0cfc-af52-4d9d-8555-e79ea4174aee"
      },
      "outputs": [
        {
          "output_type": "stream",
          "name": "stdout",
          "text": [
            "какой чудесный день\n",
            "какой чудесный день\n",
            "какой чудесный день\n",
            "\n"
          ]
        }
      ],
      "source": [
        "a = 'какой чудесный день'\n",
        "print((a+'\\n')*3)"
      ]
    },
    {
      "cell_type": "code",
      "source": [
        "a = input()\n",
        "b = print('Как дела, '+a+'?')"
      ],
      "metadata": {
        "colab": {
          "base_uri": "https://localhost:8080/"
        },
        "id": "xw5Pv4eyF1VY",
        "outputId": "441cfda9-238d-41d1-a816-eb5632bcbff4"
      },
      "execution_count": null,
      "outputs": [
        {
          "output_type": "stream",
          "name": "stdout",
          "text": [
            "1234\n",
            "Как дела, 1234?\n"
          ]
        }
      ]
    },
    {
      "cell_type": "code",
      "source": [
        "a = int(input())\n",
        "b = 2021 - a\n",
        "if b > 0:\n",
        "  print(b)\n",
        "else:\n",
        "  pass"
      ],
      "metadata": {
        "id": "j1J9PBAaGoZr"
      },
      "execution_count": null,
      "outputs": []
    },
    {
      "cell_type": "code",
      "source": [
        "a = [int(i) for i in input().split()]\n",
        "\n",
        "\n",
        "if 1<=a[0]<=10 and 1<=a[1]<=10:\n",
        "  print(sum(a))\n",
        "  print(a[0]-a[1])\n",
        "  print(a[0]*a[1])\n",
        "  print(a[0]//a[1])\n",
        "  print(a[0]**a[1])\n"
      ],
      "metadata": {
        "colab": {
          "base_uri": "https://localhost:8080/"
        },
        "id": "7wZBeKioHmEF",
        "outputId": "32bd3d64-11ca-49e0-fb45-c3c352a6e81c"
      },
      "execution_count": null,
      "outputs": [
        {
          "output_type": "stream",
          "name": "stdout",
          "text": [
            "1 2\n",
            "3\n",
            "-1\n",
            "2\n",
            "0\n",
            "1\n"
          ]
        }
      ]
    },
    {
      "cell_type": "code",
      "source": [
        "a = [1, 2, 3]\n",
        "for i in range(len(a)):\n",
        "  a[i]+=1\n",
        "print(a)"
      ],
      "metadata": {
        "colab": {
          "base_uri": "https://localhost:8080/"
        },
        "id": "_Tgoip4gmmEF",
        "outputId": "476428fe-98f0-40c5-f6e7-c7251439ee48"
      },
      "execution_count": null,
      "outputs": [
        {
          "output_type": "stream",
          "name": "stdout",
          "text": [
            "[2, 3, 4]\n"
          ]
        }
      ]
    },
    {
      "cell_type": "code",
      "source": [
        "a = 1\n",
        "a = 2\n",
        "print(a)"
      ],
      "metadata": {
        "colab": {
          "base_uri": "https://localhost:8080/"
        },
        "id": "o_3cytdVUpQe",
        "outputId": "524c2456-1609-46e5-f074-8896b2a795aa"
      },
      "execution_count": null,
      "outputs": [
        {
          "output_type": "stream",
          "name": "stdout",
          "text": [
            "2\n"
          ]
        }
      ]
    },
    {
      "cell_type": "code",
      "source": [
        "x = int(input())\n",
        "if x <= 50:\n",
        "  for i in range(x+1):\n",
        "    print('*'*i)"
      ],
      "metadata": {
        "colab": {
          "base_uri": "https://localhost:8080/"
        },
        "id": "0ClL9Jx5bhT3",
        "outputId": "e4b69407-25b2-421b-9cd1-a8135f7adc91"
      },
      "execution_count": null,
      "outputs": [
        {
          "output_type": "stream",
          "name": "stdout",
          "text": [
            "3\n",
            "\n",
            "*\n",
            "**\n",
            "***\n"
          ]
        }
      ]
    },
    {
      "cell_type": "code",
      "source": [
        "x = input()\n",
        "y = 0\n",
        "for i in range(len(x)):\n",
        "  for j in range(len(x)):\n",
        "    if x[i] == 'a' and x[j] == 'b' and i<j:\n",
        "      y+=1\n",
        "\n",
        "print(y)\n"
      ],
      "metadata": {
        "colab": {
          "base_uri": "https://localhost:8080/"
        },
        "id": "UDJLUpd-dmWX",
        "outputId": "024db533-389d-4ac0-90ea-25c1abac5b1f"
      },
      "execution_count": null,
      "outputs": [
        {
          "output_type": "stream",
          "name": "stdout",
          "text": [
            "afbjab\n",
            "3\n"
          ]
        }
      ]
    },
    {
      "cell_type": "code",
      "source": [
        "y = int(input())\n",
        "def f(x):\n",
        "  a, b = 0, 1\n",
        "  for i in range(x):\n",
        "    a, b = b, a + b\n",
        "  return a\n",
        "  \n",
        "\n",
        "if y <= 10**5:\n",
        "    print(f(y)%1000000007)\n"
      ],
      "metadata": {
        "id": "QgHiscVPj4BX",
        "colab": {
          "base_uri": "https://localhost:8080/"
        },
        "outputId": "29a5b82c-0602-47c6-b8ee-31d306b30bd3"
      },
      "execution_count": null,
      "outputs": [
        {
          "output_type": "stream",
          "name": "stdout",
          "text": [
            "3\n",
            "2\n"
          ]
        }
      ]
    },
    {
      "cell_type": "code",
      "source": [
        "n = int(input())\n",
        "a = int(n**0.5)\n",
        "b = int(n**(1/3)) \n",
        "c = int(n**(1/6))\n",
        "print(a+b-c)"
      ],
      "metadata": {
        "colab": {
          "base_uri": "https://localhost:8080/"
        },
        "id": "K2gJ6kAEgPXm",
        "outputId": "80828c38-6af9-4d4f-9d7f-6d495107eb29"
      },
      "execution_count": null,
      "outputs": [
        {
          "output_type": "stream",
          "name": "stdout",
          "text": [
            "5\n",
            "2\n"
          ]
        }
      ]
    },
    {
      "cell_type": "code",
      "source": [
        "n = int(input())\n",
        "print(int(n**(1/2)))"
      ],
      "metadata": {
        "colab": {
          "base_uri": "https://localhost:8080/"
        },
        "id": "9frdsLL9-auJ",
        "outputId": "894d3f55-33ec-4be0-fbb2-daf3021c9e5a"
      },
      "execution_count": null,
      "outputs": [
        {
          "output_type": "stream",
          "name": "stdout",
          "text": [
            "2\n",
            "1\n"
          ]
        }
      ]
    },
    {
      "cell_type": "code",
      "source": [
        "def almost_double_factorial(n):\n",
        "  x = 1\n",
        "  for i in range(n+1):\n",
        "    if 0<n<=100 and i%2 != 0:\n",
        "      x *= i\n",
        "    elif n == 0:\n",
        "      return 1\n",
        "  return x\n",
        "\n",
        "almost_double_factorial(1)"
      ],
      "metadata": {
        "colab": {
          "base_uri": "https://localhost:8080/"
        },
        "id": "lPk9jz74MFus",
        "outputId": "0e5cae1a-e0d4-430b-86c0-4a22dcaa49ad"
      },
      "execution_count": null,
      "outputs": [
        {
          "output_type": "execute_result",
          "data": {
            "text/plain": [
              "1"
            ]
          },
          "metadata": {},
          "execution_count": 15
        }
      ]
    },
    {
      "cell_type": "code",
      "source": [
        "\n",
        "x = -1\n",
        "def calls_num():\n",
        "  global x\n",
        "  if calls_num:\n",
        "    x+=1\n",
        "  return x\n",
        "\n",
        "calls_num()\n",
        "calls_num()\n",
        "calls_num()"
      ],
      "metadata": {
        "colab": {
          "base_uri": "https://localhost:8080/"
        },
        "id": "QNMIFiylRDlr",
        "outputId": "c32e73a3-b1d6-4f61-f3ce-3da28ad8a368"
      },
      "execution_count": null,
      "outputs": [
        {
          "output_type": "execute_result",
          "data": {
            "text/plain": [
              "2"
            ]
          },
          "metadata": {},
          "execution_count": 33
        }
      ]
    },
    {
      "cell_type": "code",
      "source": [
        "\n",
        "l = [0]\n",
        "\n",
        "def cmp_prev(val):\n",
        "\n",
        "  if val > l[-1]:\n",
        "    a=l[-1] + val\n",
        "    l.append(a)\n",
        "    return True\n",
        "\n",
        "  else:\n",
        "    a=l[-1] + val\n",
        "    l.append(a)\n",
        "    return False\n",
        "\n",
        "\n",
        "cmp_prev(1)\n",
        "#cmp_prev(2)\n",
        "#cmp_prev(3)\n",
        "#cmp_prev(4)"
      ],
      "metadata": {
        "colab": {
          "base_uri": "https://localhost:8080/"
        },
        "id": "RAG7JNWgVVg5",
        "outputId": "91ea4c4e-1ed1-4f6a-bc2a-69e9e53625b4"
      },
      "execution_count": null,
      "outputs": [
        {
          "output_type": "execute_result",
          "data": {
            "text/plain": [
              "True"
            ]
          },
          "metadata": {},
          "execution_count": 38
        }
      ]
    },
    {
      "cell_type": "code",
      "source": [
        "\n",
        "def Set(func):\n",
        "    # будет обновлять некую функцию преобразования строки\n",
        "    global a\n",
        "    a = func\n",
        "    return a\n",
        "\n",
        "\n",
        "def Compute(string):\n",
        "    # будет рассчитывать и возвращать значение func(string)\n",
        "    b = a(string)\n",
        "    return b"
      ],
      "metadata": {
        "id": "_goW0cCoNvk6"
      },
      "execution_count": null,
      "outputs": []
    },
    {
      "cell_type": "code",
      "source": [
        "\n",
        "class MyNum:\n",
        "\n",
        "    def __init__(self, n):\n",
        "        self.m = n\n",
        "\n",
        "    def __iadd__(self, n):\n",
        "        self.m+=n\n",
        "        return self\n",
        "\n",
        "\n",
        "    def get_val(self):\n",
        "        return self.m\n",
        "z = MyNum(2)\n",
        "\n",
        "z+=1\n",
        "print(z.get_val())\n"
      ],
      "metadata": {
        "colab": {
          "base_uri": "https://localhost:8080/"
        },
        "id": "YFd0E55nP5lv",
        "outputId": "cd06d84b-bd0e-4585-ea66-b1f3b7c8eb71"
      },
      "execution_count": null,
      "outputs": [
        {
          "output_type": "stream",
          "name": "stdout",
          "text": [
            "3\n"
          ]
        }
      ]
    },
    {
      "cell_type": "code",
      "source": [
        "class MyQueue:\n",
        "    def __init__(self):\n",
        "        l = []\n",
        "        self.l = l\n",
        "\n",
        "    def push(self, val):\n",
        "        self.l.append(val)\n",
        "        # добавляет значение в очередь\n",
        "\n",
        "    def front(self):\n",
        "        return self.l[0]\n",
        "        # возвращает первый элемент в очереди\n",
        "\n",
        "    def pop(self):\n",
        "        self.l.remove(self.l[0])\n",
        "        # удаляет первый элемент в очереди\n"
      ],
      "metadata": {
        "id": "BtI1f8eGE5X9"
      },
      "execution_count": null,
      "outputs": []
    },
    {
      "cell_type": "code",
      "source": [
        "class Neuron:\n",
        "\n",
        "    def __init__(self, w, f = lambda x: x):\n",
        "        # Сохраняет веса и функцию внутри класса\n",
        "        self.w = w\n",
        "        self.f = f\n",
        "\n",
        "    def forward(self, x):\n",
        "        # Возвращает значение функции f, примененное к числу\n",
        "        self.x = x\n",
        "        return self.f(x)\n",
        "\n",
        "    def backlog(self):\n",
        "        # Возвращает массив x, который подавался на вход функции forward при её \n",
        "        # последнем вызове. Если ранее функция forward не вызывалось, \n",
        "        # возвращает None.\n",
        "        if Neuron.forward:\n",
        "            return self.x\n",
        "        else:\n",
        "            return None"
      ],
      "metadata": {
        "id": "wei0XzQ7HgJf"
      },
      "execution_count": null,
      "outputs": []
    },
    {
      "cell_type": "code",
      "source": [
        "import numpy as np\n",
        "\n",
        "def cumulative_mean(X, dtype=float):\n",
        "    #YOUR CODE\n",
        "\n",
        "    a = np.cumsum(X)\n",
        "    #b = np.arange(1, len(a)+1)\n",
        "    result = a#/b #YOUR CODE\n",
        "    \n",
        "    return result\n",
        "\n",
        "\n",
        "X = [1, 1.5, 7./3, -0.5]\n",
        "cumulative_mean(X)"
      ],
      "metadata": {
        "colab": {
          "base_uri": "https://localhost:8080/"
        },
        "id": "vSy1BJs_gsFe",
        "outputId": "77b280f2-adc0-46ad-fb83-4b732d0d2ac4"
      },
      "execution_count": null,
      "outputs": [
        {
          "output_type": "execute_result",
          "data": {
            "text/plain": [
              "array([1.        , 2.5       , 4.83333333, 4.33333333])"
            ]
          },
          "metadata": {},
          "execution_count": 19
        }
      ]
    },
    {
      "cell_type": "code",
      "source": [
        "x = [[1, 2, 3],\n",
        "     [4, 5, 6]]\n",
        "a = np.arange(1, len(x[0])+1)\n",
        "b = np.arange(1, len(x[1])+1)\n",
        "y = np.cumsum(x[0])\n",
        "z = np.cumsum(x[1])\n",
        "c = np.array([y/a, z/b])\n",
        "c"
      ],
      "metadata": {
        "colab": {
          "base_uri": "https://localhost:8080/"
        },
        "id": "wlCyuSh0kCPR",
        "outputId": "faf982b4-870f-436a-8e54-0db145b55b29"
      },
      "execution_count": null,
      "outputs": [
        {
          "output_type": "execute_result",
          "data": {
            "text/plain": [
              "array([[1. , 1.5, 2. ],\n",
              "       [4. , 4.5, 5. ]])"
            ]
          },
          "metadata": {},
          "execution_count": 31
        }
      ]
    },
    {
      "cell_type": "code",
      "source": [
        "'''\n",
        "Необходимо написать функцию transform, которая построит новый массив, \n",
        "где все элементы с нечетными индексами требуется заменить на число 1. \n",
        "Все элементы с четными индексами нужно возвести в куб. \n",
        "Затем записать элементы в обратном порядке относительно их позиций.\n",
        "'''\n",
        "\n",
        "import numpy as np\n",
        "\n",
        "def transform(X):\n",
        "    x = np.array(X)\n",
        "    x[::2] = 1 \n",
        "    x[1::2] = x[1::2]**3\n",
        "    return x\n",
        "\n",
        "\n",
        "x = [1, 2, 3, 4, 5]\n",
        "transform(x)"
      ],
      "metadata": {
        "colab": {
          "base_uri": "https://localhost:8080/"
        },
        "id": "0x15DgCz15v6",
        "outputId": "d8cd2b1b-31da-40e7-f266-5118fc1b2bc4"
      },
      "execution_count": null,
      "outputs": [
        {
          "output_type": "execute_result",
          "data": {
            "text/plain": [
              "(array([ 1,  8,  1, 64,  1]), (array([0, 1, 2, 3, 4]),))"
            ]
          },
          "metadata": {},
          "execution_count": 10
        }
      ]
    },
    {
      "cell_type": "code",
      "source": [
        "x = [[1, 5],\n",
        "     [3, 7]]\n",
        "\n",
        "def test(x):\n",
        "    x = np.array(x)\n",
        "    y = (x%2==0)\n",
        "    z = x[y].sum(axis=0)\n",
        "    return z\n",
        "    if x[y] not in x:\n",
        "        return 0\n",
        "\n",
        "test(x)"
      ],
      "metadata": {
        "colab": {
          "base_uri": "https://localhost:8080/"
        },
        "id": "GlX8fImP9jnJ",
        "outputId": "0f157152-36ba-42c0-f4d9-66cd7f3902c5"
      },
      "execution_count": null,
      "outputs": [
        {
          "output_type": "execute_result",
          "data": {
            "text/plain": [
              "0"
            ]
          },
          "metadata": {},
          "execution_count": 24
        }
      ]
    },
    {
      "cell_type": "code",
      "source": [
        "x = [[1, 2, 4],\n",
        "     [3, 6, 9],\n",
        "     [4, 6, 8]]\n",
        "x = np.array(x)\n",
        "a = np.diag(x)\n",
        "y = (a%2==0)\n",
        "z = a[y]\n",
        "\n",
        "print(z.sum())"
      ],
      "metadata": {
        "colab": {
          "base_uri": "https://localhost:8080/"
        },
        "id": "vOYjCXHu-_j_",
        "outputId": "1854e285-642e-4b6b-b1c7-2600ad96d503"
      },
      "execution_count": null,
      "outputs": [
        {
          "output_type": "stream",
          "name": "stdout",
          "text": [
            "14\n"
          ]
        }
      ]
    },
    {
      "cell_type": "code",
      "source": [
        "v1 = [1, 2, 3]\n",
        "v2 = [4, 5, 6]\n",
        "\n",
        "i = 0\n",
        "a = 0\n",
        "while i<len(v1):\n",
        "    z = v1[i]*v2[i]\n",
        "    a+=z\n",
        "    i+=1\n",
        "        \n",
        "print(a)"
      ],
      "metadata": {
        "colab": {
          "base_uri": "https://localhost:8080/"
        },
        "id": "lHtInmkzNKZC",
        "outputId": "3114074f-8038-4502-d377-425aa0d40766"
      },
      "execution_count": null,
      "outputs": [
        {
          "output_type": "stream",
          "name": "stdout",
          "text": [
            "32\n"
          ]
        }
      ]
    },
    {
      "cell_type": "code",
      "source": [
        "a = [[1, 2, 3],\n",
        "     [4, 5, 6],\n",
        "     [7, 8, 9]]\n",
        "b = [[1, 2, 3],\n",
        "     [4, 5, 6],\n",
        "     [7, 8, 9]]\n",
        "d = []\n",
        "for i in range(len(a)):\n",
        "    d.append([])\n",
        "    for j in range(len(a[i])):\n",
        "        d[i].append([])\n",
        "        for k in range(len(b[i])):\n",
        "            d[i][j].append(a[i][k]*b[k][j])\n",
        "\n",
        "z = []\n",
        "for i in range(len(d)):\n",
        "    z.append([])\n",
        "    for j in range(len(d[i])):\n",
        "        z[i].append(sum(d[i][j]))   \n",
        "\n",
        "print(z)"
      ],
      "metadata": {
        "colab": {
          "base_uri": "https://localhost:8080/"
        },
        "id": "px_pBf7K7lVt",
        "outputId": "f994b8c9-45d7-4a8d-8f09-93721a15ba7d"
      },
      "execution_count": null,
      "outputs": [
        {
          "output_type": "stream",
          "name": "stdout",
          "text": [
            "[[30, 36, 42], [66, 81, 96], [102, 126, 150]]\n"
          ]
        }
      ]
    },
    {
      "cell_type": "code",
      "source": [],
      "metadata": {
        "id": "1raSvWsywOw4"
      },
      "execution_count": null,
      "outputs": []
    },
    {
      "cell_type": "code",
      "source": [
        "import numpy as np\n",
        "a = [[1, 2, 3],\n",
        "     [4, 5, 6],\n",
        "     [7, 8, 9]]\n",
        "b = [[1, 2, 3],\n",
        "     [4, 5, 6],\n",
        "     [7, 8, 9]]\n",
        "a = np.array(a)\n",
        "b = np.array(b)\n",
        "print(a @ b)\n"
      ],
      "metadata": {
        "colab": {
          "base_uri": "https://localhost:8080/"
        },
        "id": "KjYIUCIZ--Q2",
        "outputId": "2a9ffa47-b696-46f5-f433-e20c34c3df11"
      },
      "execution_count": null,
      "outputs": [
        {
          "output_type": "stream",
          "name": "stdout",
          "text": [
            "[[ 30  36  42]\n",
            " [ 66  81  96]\n",
            " [102 126 150]]\n"
          ]
        }
      ]
    },
    {
      "cell_type": "code",
      "source": [
        "s = 0\n",
        "for i in range(1, 8):\n",
        "    k = i**2\n",
        "    s+=k\n",
        "print((s/7)**0.5)"
      ],
      "metadata": {
        "colab": {
          "base_uri": "https://localhost:8080/"
        },
        "id": "er2uwLQ-wQGc",
        "outputId": "e94fb4a1-2578-42dc-8c49-9e410166dae7"
      },
      "execution_count": null,
      "outputs": [
        {
          "output_type": "stream",
          "name": "stdout",
          "text": [
            "4.47213595499958\n"
          ]
        }
      ]
    },
    {
      "cell_type": "code",
      "source": [
        "import numpy as np\n",
        "\n",
        "print(np.std([1, 2, 3, 4, 5, 6, 7]))"
      ],
      "metadata": {
        "colab": {
          "base_uri": "https://localhost:8080/"
        },
        "id": "mVv0U_svEzV3",
        "outputId": "f35cd55a-0b58-4218-b7c9-876035896209"
      },
      "execution_count": null,
      "outputs": [
        {
          "output_type": "stream",
          "name": "stdout",
          "text": [
            "2.0\n"
          ]
        }
      ]
    },
    {
      "cell_type": "code",
      "source": [
        "print(247.5/((88621.5)**0.5))"
      ],
      "metadata": {
        "colab": {
          "base_uri": "https://localhost:8080/"
        },
        "id": "w6kuJQrlPdV0",
        "outputId": "75084df7-b0fc-41c4-89b1-8e557862c47c"
      },
      "execution_count": null,
      "outputs": [
        {
          "output_type": "stream",
          "name": "stdout",
          "text": [
            "0.8313916434463384\n"
          ]
        }
      ]
    },
    {
      "cell_type": "code",
      "source": [
        "import pandas as pd\n",
        "df = pd.DataFrame({'a': [1,2,3,4], 'b': [5,6,7,8], 'c': [9,10,11,12]}, index=[1,2,3,4])\n",
        "df.iloc[2, 0]"
      ],
      "metadata": {
        "colab": {
          "base_uri": "https://localhost:8080/"
        },
        "id": "SWm7kpLz4lEn",
        "outputId": "632c8da9-82a5-4bc5-dcbc-063a0948620d"
      },
      "execution_count": null,
      "outputs": [
        {
          "output_type": "execute_result",
          "data": {
            "text/plain": [
              "3"
            ]
          },
          "metadata": {},
          "execution_count": 2
        }
      ]
    },
    {
      "cell_type": "code",
      "source": [
        "Video_blog_DF = pd.DataFrame({'Duration': [275, 383, 628, 712],\n",
        "                             'Views': [305, 629, 843, 726],\n",
        "                             'Likes':[23, 78, 65, 90],\n",
        "                             'Dislikes':[5, 12, 26, 10],\n",
        "                             'Comments':[2, 6, 15, 28]})\n",
        "Video_blog_DF.iloc[3].loc['Likes']"
      ],
      "metadata": {
        "colab": {
          "base_uri": "https://localhost:8080/"
        },
        "id": "te4tFqve4lPB",
        "outputId": "a91e4465-f570-4265-f0ce-1a699fed8b53"
      },
      "execution_count": null,
      "outputs": [
        {
          "output_type": "execute_result",
          "data": {
            "text/plain": [
              "90"
            ]
          },
          "metadata": {},
          "execution_count": 3
        }
      ]
    },
    {
      "cell_type": "code",
      "source": [
        "import matplotlib.pyplot as plt\n",
        "plt.grid()"
      ],
      "metadata": {
        "colab": {
          "base_uri": "https://localhost:8080/",
          "height": 269
        },
        "id": "o02ySNjtMomq",
        "outputId": "49ccb70d-f97e-40fa-da44-eb2358631311"
      },
      "execution_count": null,
      "outputs": [
        {
          "output_type": "display_data",
          "data": {
            "text/plain": [
              "<Figure size 432x288 with 1 Axes>"
            ],
            "image/png": "[encoded data removed]"
          },
          "metadata": {
            "needs_background": "light"
          }
        }
      ]
    },
    {
      "cell_type": "code",
      "source": [
        "plt.plot([1, 3])\n",
        "plt.show()"
      ],
      "metadata": {
        "colab": {
          "base_uri": "https://localhost:8080/",
          "height": 265
        },
        "id": "7dPlgk6MM6Fw",
        "outputId": "47a2ba43-735d-4fe4-b63b-8525a6011d34"
      },
      "execution_count": null,
      "outputs": [
        {
          "output_type": "display_data",
          "data": {
            "text/plain": [
              "<Figure size 432x288 with 1 Axes>"
            ],
            "image/png": "[encoded data removed]"
          },
          "metadata": {
            "needs_background": "light"
          }
        }
      ]
    }
  ]
}
