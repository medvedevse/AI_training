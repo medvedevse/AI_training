{
  "nbformat": 4,
  "nbformat_minor": 0,
  "metadata": {
    "colab": {
      "provenance": [],
      "gpuType": "T4",
      "include_colab_link": true
    },
    "kernelspec": {
      "name": "python3",
      "display_name": "Python 3"
    },
    "language_info": {
      "name": "python"
    },
    "accelerator": "GPU"
  },
  "cells": [
    {
      "cell_type": "markdown",
      "metadata": {
        "id": "view-in-github",
        "colab_type": "text"
      },
      "source": [
        "<a href=\"https://colab.research.google.com/github/medvedevse/AI_training/blob/main/hw_03_gradient_boosting.ipynb\" target=\"_parent\"><img src=\"https://colab.research.google.com/assets/colab-badge.svg\" alt=\"Open In Colab\"/></a>"
      ]
    },
    {
      "cell_type": "markdown",
      "source": [
        "# Домашнее задание. Решение задачи регрессии с помощью градиентного бустинга\n",
        "В этом домашнем задании вы примените алгоритм градиентного бустинга к задаче регрессии. Мы будем решать задачу предсказания популярности трека на музыкальной платформе по различным характеристикам (имя музыканта, продолжительность, а также численные характеристика трека, такие как размер, громкость, лад (минор/мажор), энергичность, акустичность и т.д.\n",
        "\n",
        "## Почему именно градиентный бустинг?\n",
        "Обычно градиентный бустинг дает в стандартных задачах машинного обучения на табличных данных умеренный прирост по сравнению со случайным лесом: несколько процентных пунктов целевой метрики. В предлагаемой вам задаче все иначе: градиентный бустинг в библиотеке `CatBoost` здесь дает по сравнению с бейзлайном **четырехкратный** прирост по метрике $R^2$. Помимо самого алгоритма бустинга, это связано со способностью `CatBoost` качественно кодировать категориальные признаки, тогда как стандартные модели машинного обучения в `sklearn` (как и альтернативные реализации градиентного бустинга) по умолчанию этого делать не умеют. При выполнении домашнего задания вам предстоит в этом убедиться.\n",
        "\n",
        "## Данные и посылка\n",
        "в этом задании мы будем проверять и оценивать вашу посылку так, как это происходит на конкурсах по машинному обучению (например, на платформе kaggle.com). Для этого мы предварительно разделили данные в задании на две части.\n",
        "\n",
        "1. data_train.csv. В каждой строчке файла data_train.csv содержатся следующие поля:\n",
        "* `track_id` --- уникальный ключ, который мы будем использовать в качестве `pd.Index`\n",
        "* `artist_name` --- имя исполнителя (важный категориальный признак, качественное использование которого кратно повышает качество модели)\n",
        "* `track_name` --- название трека. Это поле не используется в базовом решении и в авторском решении, но никто не мешает вам попробовать его использовать\n",
        "* `acousticness` --- числовой признак\n",
        "* `danceability` --- числовой признак\n",
        "* `duration_ms` --- числовой признак\n",
        "* `energy` --- числовой признак\n",
        "* `instrumentalness` --- числовой признак\n",
        "* `key` --- категориальный признак\n",
        "* `liveliness` --- числовой признак\n",
        "* `loudness` --- числовой признак\n",
        "* `mode` --- бинарный признак\n",
        "* `speechiness`\t--- числовой признак\n",
        "* `tempo` --- числовой признак\n",
        "* `time_signature` --- категориальный признак\n",
        "* `valence` --- числовой признак\n",
        "* `popularity` --- целевая переменная, принимающая целое значение от 1 до 100.\n",
        "\n",
        "На этом наборе данных вам необходимо создать и обучить модель.\n",
        "\n",
        "2. data_scoring.csv. В каждой строчке файла data_scoring.csv указаны признаки тестовых объектов. Предсказания для этого набора необходимо записать в файл submission.csv и сдать в соответствующий шаг на Stepik. Количество попыток ограничено 100 штук.\n",
        "Также мы предоставляем файл [sample_submission.csv](https://drive.google.com/file/d/1QlQnKFOej3hg5tNcjx4DRrd6QPNdTl_7/view?usp=share_link). Это образец посылки --- ваш файл submission.csv должен быть оформлен таким же образом. Обратите внимание, что порядок строчек в submission должен быть такой же, как и в data_scoring.csv!\n",
        "\n",
        "## Целевая метрика\n",
        "Целевая метрика в этой задаче --- $R^2$. Именно по ней система будет выставлять вам баллы. Минимальное значение $R^2$, за которое ставятся баллы, равно $lb=0.450$. Чтобы набрать полный балл за задание, необходимо набрать $ub=0.475$.\n",
        "Оценка выставляется по формуле\n",
        "$$\\begin{cases}\n",
        "0, & score \\leqslant lb,\\\\\n",
        "10 \\cdot \\frac{score - lb}{ub - lb}, & lb < score < ub,\\\\\n",
        "10, & score \\geqslant ub.\n",
        "\\end{cases}$$\n",
        "\n",
        "## Бейзлайн\n",
        "В этом ноутбуке приведен бейзлайн на основе случайного леса, который оценивается в 0 баллов на Stepik (дает $R^2=0.15$).\n",
        "\n",
        "## Ход работы\n",
        "Для получения необходимого качества предлагаем использовать модель `catboost.CatBoostRegressor`. Эта модель с любыми параметрами скорее всего принесет вам какие-то баллы за задание. При этом максимальный балл принесет модель, у которой подобран оптимальный параметр глубины. Для нахождения этого параметра мы предлагаем использовать кросс-валидацию, встроенную в `catboost`.\n",
        "\n",
        "Обратите внимание, что кодирование категориальных признаков, принятое по умолчанию в `catboost`, работает лучше, чем выделение числовых признаков с помощью One-hot Encoding. Поэтому вам этот этап обработки данных не понадобится, хотя он и реализован в бейзлайне. Для того, чтобы указать `catboost`, какие данные являются категориальными, необходимо использовать параметр `cat_features` при создании `catboost.Pool`.\n",
        "\n",
        "Желаем удачи!"
      ],
      "metadata": {
        "id": "CLxwqRqDy6mh"
      }
    },
    {
      "cell_type": "code",
      "execution_count": 1,
      "metadata": {
        "id": "xX7d4oJzoc4h"
      },
      "outputs": [],
      "source": [
        "import numpy as np\n",
        "import pandas as pd\n",
        "import matplotlib.pyplot as plt\n",
        "from tqdm import tqdm\n",
        "\n",
        "%matplotlib inline"
      ]
    },
    {
      "cell_type": "code",
      "source": [
        "\n",
        "!pip install scikit-learn==1.2 # Новая версия One-hot encoding доступна только в sklearn 1.2\n",
        "\n",
        "from sklearn.preprocessing import OneHotEncoder\n",
        "from sklearn.model_selection import train_test_split\n",
        "from sklearn.metrics import r2_score\n",
        "from sklearn.ensemble import RandomForestRegressor"
      ],
      "metadata": {
        "colab": {
          "base_uri": "https://localhost:8080/"
        },
        "id": "i5EyNemgrhv_",
        "outputId": "23b26eb8-2ff1-4d41-e717-c7acdcbac44e"
      },
      "execution_count": 2,
      "outputs": [
        {
          "output_type": "stream",
          "name": "stdout",
          "text": [
            "Collecting scikit-learn==1.2\n",
            "  Downloading scikit_learn-1.2.0-cp310-cp310-manylinux_2_17_x86_64.manylinux2014_x86_64.whl (9.5 MB)\n",
            "\u001b[2K     \u001b[90m━━━━━━━━━━━━━━━━━━━━━━━━━━━━━━━━━━━━━━━━\u001b[0m \u001b[32m9.5/9.5 MB\u001b[0m \u001b[31m62.5 MB/s\u001b[0m eta \u001b[36m0:00:00\u001b[0m\n",
            "\u001b[?25hRequirement already satisfied: numpy>=1.17.3 in /usr/local/lib/python3.10/dist-packages (from scikit-learn==1.2) (1.22.4)\n",
            "Requirement already satisfied: scipy>=1.3.2 in /usr/local/lib/python3.10/dist-packages (from scikit-learn==1.2) (1.10.1)\n",
            "Requirement already satisfied: joblib>=1.1.1 in /usr/local/lib/python3.10/dist-packages (from scikit-learn==1.2) (1.2.0)\n",
            "Requirement already satisfied: threadpoolctl>=2.0.0 in /usr/local/lib/python3.10/dist-packages (from scikit-learn==1.2) (3.1.0)\n",
            "Installing collected packages: scikit-learn\n",
            "  Attempting uninstall: scikit-learn\n",
            "    Found existing installation: scikit-learn 1.2.2\n",
            "    Uninstalling scikit-learn-1.2.2:\n",
            "      Successfully uninstalled scikit-learn-1.2.2\n",
            "Successfully installed scikit-learn-1.2.0\n"
          ]
        }
      ]
    },
    {
      "cell_type": "markdown",
      "source": [
        "Скачиваем данные"
      ],
      "metadata": {
        "id": "nlEd3PGB7vW3"
      }
    },
    {
      "cell_type": "code",
      "source": [
        "!gdown 1G-dH-66bWsl16RC9n8AX4370I2LRkgzO  # data_train.csv\n",
        "!gdown 1pVrpyO5ZxouaDGYW29L0mWUnognmiZIq  # data_scoring.csv"
      ],
      "metadata": {
        "colab": {
          "base_uri": "https://localhost:8080/"
        },
        "id": "eCvMrqPtrs8B",
        "outputId": "ae11e397-fe52-4ee8-a5a6-77d50747e056"
      },
      "execution_count": 3,
      "outputs": [
        {
          "output_type": "stream",
          "name": "stdout",
          "text": [
            "Downloading...\n",
            "From: https://drive.google.com/uc?id=1G-dH-66bWsl16RC9n8AX4370I2LRkgzO\n",
            "To: /content/data_train.csv\n",
            "100% 9.44M/9.44M [00:00<00:00, 45.3MB/s]\n",
            "Downloading...\n",
            "From: https://drive.google.com/uc?id=1pVrpyO5ZxouaDGYW29L0mWUnognmiZIq\n",
            "To: /content/data_scoring.csv\n",
            "100% 9.28M/9.28M [00:00<00:00, 107MB/s]\n"
          ]
        }
      ]
    },
    {
      "cell_type": "code",
      "source": [
        "data = pd.read_csv('data_train.csv', index_col='track_id')\n",
        "data.head()"
      ],
      "metadata": {
        "colab": {
          "base_uri": "https://localhost:8080/",
          "height": 336
        },
        "id": "y7OYNB7drvIC",
        "outputId": "2bf110ae-6395-4359-c8b2-ac9387b8342f"
      },
      "execution_count": 4,
      "outputs": [
        {
          "output_type": "execute_result",
          "data": {
            "text/plain": [
              "                        artist_name            track_name  acousticness  \\\n",
              "track_id                                                                  \n",
              "77WL0prmlUqQ3Uv2H7X8Tv  Houzemaster                My Way        0.0775   \n",
              "5QTxCUGrKdbxEWKedcF7Ty  Magnus Foss        Doesn't Matter        0.0546   \n",
              "7rreyET2avyDiKloE6fjBg      Giriboy               BangBup        0.1420   \n",
              "0yLrdldrWbq8U4A5ilvF6g    Kip Moore  Love You To The Moon        0.3160   \n",
              "12PL3IiJsrN5254htzLWRO       Bobina            The Reason        0.1860   \n",
              "\n",
              "                        danceability  duration_ms  energy  instrumentalness  \\\n",
              "track_id                                                                      \n",
              "77WL0prmlUqQ3Uv2H7X8Tv         0.703       199523   0.271          0.834000   \n",
              "5QTxCUGrKdbxEWKedcF7Ty         0.759       198000   0.567          0.870000   \n",
              "7rreyET2avyDiKloE6fjBg         0.555       167584   0.828          0.000000   \n",
              "0yLrdldrWbq8U4A5ilvF6g         0.745       223880   0.640          0.000007   \n",
              "12PL3IiJsrN5254htzLWRO         0.513       189600   0.818          0.000000   \n",
              "\n",
              "                        key  liveness  loudness  mode  speechiness    tempo  \\\n",
              "track_id                                                                      \n",
              "77WL0prmlUqQ3Uv2H7X8Tv    6    0.1080   -14.608     0       0.0744  120.007   \n",
              "5QTxCUGrKdbxEWKedcF7Ty    1    0.0838   -10.655     1       0.0444  120.006   \n",
              "7rreyET2avyDiKloE6fjBg    1    0.3360    -3.555     1       0.3830   74.954   \n",
              "0yLrdldrWbq8U4A5ilvF6g    7    0.0804    -6.095     1       0.0342  101.025   \n",
              "12PL3IiJsrN5254htzLWRO    3    0.1040    -3.693     1       0.0332   99.972   \n",
              "\n",
              "                        time_signature  valence  popularity  \n",
              "track_id                                                     \n",
              "77WL0prmlUqQ3Uv2H7X8Tv               4   0.7000           0  \n",
              "5QTxCUGrKdbxEWKedcF7Ty               4   0.0969           0  \n",
              "7rreyET2avyDiKloE6fjBg               4   0.6220          15  \n",
              "0yLrdldrWbq8U4A5ilvF6g               4   0.8990          50  \n",
              "12PL3IiJsrN5254htzLWRO               4   0.2160          11  "
            ],
            "text/html": [
              "\n",
              "  <div id=\"df-7eb51965-4c2e-41da-bc8d-143fc4e54779\">\n",
              "    <div class=\"colab-df-container\">\n",
              "      <div>\n",
              "<style scoped>\n",
              "    .dataframe tbody tr th:only-of-type {\n",
              "        vertical-align: middle;\n",
              "    }\n",
              "\n",
              "    .dataframe tbody tr th {\n",
              "        vertical-align: top;\n",
              "    }\n",
              "\n",
              "    .dataframe thead th {\n",
              "        text-align: right;\n",
              "    }\n",
              "</style>\n",
              "<table border=\"1\" class=\"dataframe\">\n",
              "  <thead>\n",
              "    <tr style=\"text-align: right;\">\n",
              "      <th></th>\n",
              "      <th>artist_name</th>\n",
              "      <th>track_name</th>\n",
              "      <th>acousticness</th>\n",
              "      <th>danceability</th>\n",
              "      <th>duration_ms</th>\n",
              "      <th>energy</th>\n",
              "      <th>instrumentalness</th>\n",
              "      <th>key</th>\n",
              "      <th>liveness</th>\n",
              "      <th>loudness</th>\n",
              "      <th>mode</th>\n",
              "      <th>speechiness</th>\n",
              "      <th>tempo</th>\n",
              "      <th>time_signature</th>\n",
              "      <th>valence</th>\n",
              "      <th>popularity</th>\n",
              "    </tr>\n",
              "    <tr>\n",
              "      <th>track_id</th>\n",
              "      <th></th>\n",
              "      <th></th>\n",
              "      <th></th>\n",
              "      <th></th>\n",
              "      <th></th>\n",
              "      <th></th>\n",
              "      <th></th>\n",
              "      <th></th>\n",
              "      <th></th>\n",
              "      <th></th>\n",
              "      <th></th>\n",
              "      <th></th>\n",
              "      <th></th>\n",
              "      <th></th>\n",
              "      <th></th>\n",
              "      <th></th>\n",
              "    </tr>\n",
              "  </thead>\n",
              "  <tbody>\n",
              "    <tr>\n",
              "      <th>77WL0prmlUqQ3Uv2H7X8Tv</th>\n",
              "      <td>Houzemaster</td>\n",
              "      <td>My Way</td>\n",
              "      <td>0.0775</td>\n",
              "      <td>0.703</td>\n",
              "      <td>199523</td>\n",
              "      <td>0.271</td>\n",
              "      <td>0.834000</td>\n",
              "      <td>6</td>\n",
              "      <td>0.1080</td>\n",
              "      <td>-14.608</td>\n",
              "      <td>0</td>\n",
              "      <td>0.0744</td>\n",
              "      <td>120.007</td>\n",
              "      <td>4</td>\n",
              "      <td>0.7000</td>\n",
              "      <td>0</td>\n",
              "    </tr>\n",
              "    <tr>\n",
              "      <th>5QTxCUGrKdbxEWKedcF7Ty</th>\n",
              "      <td>Magnus Foss</td>\n",
              "      <td>Doesn't Matter</td>\n",
              "      <td>0.0546</td>\n",
              "      <td>0.759</td>\n",
              "      <td>198000</td>\n",
              "      <td>0.567</td>\n",
              "      <td>0.870000</td>\n",
              "      <td>1</td>\n",
              "      <td>0.0838</td>\n",
              "      <td>-10.655</td>\n",
              "      <td>1</td>\n",
              "      <td>0.0444</td>\n",
              "      <td>120.006</td>\n",
              "      <td>4</td>\n",
              "      <td>0.0969</td>\n",
              "      <td>0</td>\n",
              "    </tr>\n",
              "    <tr>\n",
              "      <th>7rreyET2avyDiKloE6fjBg</th>\n",
              "      <td>Giriboy</td>\n",
              "      <td>BangBup</td>\n",
              "      <td>0.1420</td>\n",
              "      <td>0.555</td>\n",
              "      <td>167584</td>\n",
              "      <td>0.828</td>\n",
              "      <td>0.000000</td>\n",
              "      <td>1</td>\n",
              "      <td>0.3360</td>\n",
              "      <td>-3.555</td>\n",
              "      <td>1</td>\n",
              "      <td>0.3830</td>\n",
              "      <td>74.954</td>\n",
              "      <td>4</td>\n",
              "      <td>0.6220</td>\n",
              "      <td>15</td>\n",
              "    </tr>\n",
              "    <tr>\n",
              "      <th>0yLrdldrWbq8U4A5ilvF6g</th>\n",
              "      <td>Kip Moore</td>\n",
              "      <td>Love You To The Moon</td>\n",
              "      <td>0.3160</td>\n",
              "      <td>0.745</td>\n",
              "      <td>223880</td>\n",
              "      <td>0.640</td>\n",
              "      <td>0.000007</td>\n",
              "      <td>7</td>\n",
              "      <td>0.0804</td>\n",
              "      <td>-6.095</td>\n",
              "      <td>1</td>\n",
              "      <td>0.0342</td>\n",
              "      <td>101.025</td>\n",
              "      <td>4</td>\n",
              "      <td>0.8990</td>\n",
              "      <td>50</td>\n",
              "    </tr>\n",
              "    <tr>\n",
              "      <th>12PL3IiJsrN5254htzLWRO</th>\n",
              "      <td>Bobina</td>\n",
              "      <td>The Reason</td>\n",
              "      <td>0.1860</td>\n",
              "      <td>0.513</td>\n",
              "      <td>189600</td>\n",
              "      <td>0.818</td>\n",
              "      <td>0.000000</td>\n",
              "      <td>3</td>\n",
              "      <td>0.1040</td>\n",
              "      <td>-3.693</td>\n",
              "      <td>1</td>\n",
              "      <td>0.0332</td>\n",
              "      <td>99.972</td>\n",
              "      <td>4</td>\n",
              "      <td>0.2160</td>\n",
              "      <td>11</td>\n",
              "    </tr>\n",
              "  </tbody>\n",
              "</table>\n",
              "</div>\n",
              "      <button class=\"colab-df-convert\" onclick=\"convertToInteractive('df-7eb51965-4c2e-41da-bc8d-143fc4e54779')\"\n",
              "              title=\"Convert this dataframe to an interactive table.\"\n",
              "              style=\"display:none;\">\n",
              "        \n",
              "  <svg xmlns=\"http://www.w3.org/2000/svg\" height=\"24px\"viewBox=\"0 0 24 24\"\n",
              "       width=\"24px\">\n",
              "    <path d=\"M0 0h24v24H0V0z\" fill=\"none\"/>\n",
              "    <path d=\"M18.56 5.44l.94 2.06.94-2.06 2.06-.94-2.06-.94-.94-2.06-.94 2.06-2.06.94zm-11 1L8.5 8.5l.94-2.06 2.06-.94-2.06-.94L8.5 2.5l-.94 2.06-2.06.94zm10 10l.94 2.06.94-2.06 2.06-.94-2.06-.94-.94-2.06-.94 2.06-2.06.94z\"/><path d=\"M17.41 7.96l-1.37-1.37c-.4-.4-.92-.59-1.43-.59-.52 0-1.04.2-1.43.59L10.3 9.45l-7.72 7.72c-.78.78-.78 2.05 0 2.83L4 21.41c.39.39.9.59 1.41.59.51 0 1.02-.2 1.41-.59l7.78-7.78 2.81-2.81c.8-.78.8-2.07 0-2.86zM5.41 20L4 18.59l7.72-7.72 1.47 1.35L5.41 20z\"/>\n",
              "  </svg>\n",
              "      </button>\n",
              "      \n",
              "  <style>\n",
              "    .colab-df-container {\n",
              "      display:flex;\n",
              "      flex-wrap:wrap;\n",
              "      gap: 12px;\n",
              "    }\n",
              "\n",
              "    .colab-df-convert {\n",
              "      background-color: #E8F0FE;\n",
              "      border: none;\n",
              "      border-radius: 50%;\n",
              "      cursor: pointer;\n",
              "      display: none;\n",
              "      fill: #1967D2;\n",
              "      height: 32px;\n",
              "      padding: 0 0 0 0;\n",
              "      width: 32px;\n",
              "    }\n",
              "\n",
              "    .colab-df-convert:hover {\n",
              "      background-color: #E2EBFA;\n",
              "      box-shadow: 0px 1px 2px rgba(60, 64, 67, 0.3), 0px 1px 3px 1px rgba(60, 64, 67, 0.15);\n",
              "      fill: #174EA6;\n",
              "    }\n",
              "\n",
              "    [theme=dark] .colab-df-convert {\n",
              "      background-color: #3B4455;\n",
              "      fill: #D2E3FC;\n",
              "    }\n",
              "\n",
              "    [theme=dark] .colab-df-convert:hover {\n",
              "      background-color: #434B5C;\n",
              "      box-shadow: 0px 1px 3px 1px rgba(0, 0, 0, 0.15);\n",
              "      filter: drop-shadow(0px 1px 2px rgba(0, 0, 0, 0.3));\n",
              "      fill: #FFFFFF;\n",
              "    }\n",
              "  </style>\n",
              "\n",
              "      <script>\n",
              "        const buttonEl =\n",
              "          document.querySelector('#df-7eb51965-4c2e-41da-bc8d-143fc4e54779 button.colab-df-convert');\n",
              "        buttonEl.style.display =\n",
              "          google.colab.kernel.accessAllowed ? 'block' : 'none';\n",
              "\n",
              "        async function convertToInteractive(key) {\n",
              "          const element = document.querySelector('#df-7eb51965-4c2e-41da-bc8d-143fc4e54779');\n",
              "          const dataTable =\n",
              "            await google.colab.kernel.invokeFunction('convertToInteractive',\n",
              "                                                     [key], {});\n",
              "          if (!dataTable) return;\n",
              "\n",
              "          const docLinkHtml = 'Like what you see? Visit the ' +\n",
              "            '<a target=\"_blank\" href=https://colab.research.google.com/notebooks/data_table.ipynb>data table notebook</a>'\n",
              "            + ' to learn more about interactive tables.';\n",
              "          element.innerHTML = '';\n",
              "          dataTable['output_type'] = 'display_data';\n",
              "          await google.colab.output.renderOutput(dataTable, element);\n",
              "          const docLink = document.createElement('div');\n",
              "          docLink.innerHTML = docLinkHtml;\n",
              "          element.appendChild(docLink);\n",
              "        }\n",
              "      </script>\n",
              "    </div>\n",
              "  </div>\n",
              "  "
            ]
          },
          "metadata": {},
          "execution_count": 4
        }
      ]
    },
    {
      "cell_type": "markdown",
      "source": [
        "Разбиваем на train и test"
      ],
      "metadata": {
        "id": "vgBKQPR27x9K"
      }
    },
    {
      "cell_type": "code",
      "source": [
        "X_train, X_test, y_train, y_test = train_test_split(\n",
        "    data.drop(columns=['popularity']),\n",
        "    data['popularity'])\n",
        "\n",
        "cat_features = ['artist_name', 'key', 'time_signature']\n",
        "\n"
      ],
      "metadata": {
        "id": "MFzzGPFCryDQ"
      },
      "execution_count": 5,
      "outputs": []
    },
    {
      "cell_type": "markdown",
      "source": [
        "Кодируем категориальные данные с помощью `sklearn.preprocessing.OneHotEncoder`. Формируем полный датасет с помощью `pd.concat`."
      ],
      "metadata": {
        "id": "BNbdnXCH71DS"
      }
    },
    {
      "cell_type": "code",
      "source": [
        "encoder = OneHotEncoder(max_categories=30, sparse=False, handle_unknown='ignore')\n",
        "train_cat_data = pd.DataFrame(encoder.fit_transform(X_train[cat_features[1:]]),\n",
        "                              index=X_train.index,\n",
        "                              columns=encoder.get_feature_names_out())\n",
        "\n",
        "test_cat_data = pd.DataFrame(encoder.transform(X_test[cat_features[1:]]),\n",
        "                             index=X_test.index,\n",
        "                             columns=encoder.get_feature_names_out())\n",
        "\n",
        "full_train_data = pd.concat([X_train.drop(columns=cat_features + ['track_name']),\n",
        "                             train_cat_data],\n",
        "                            axis='columns')\n",
        "full_test_data = pd.concat([X_test.drop(columns=cat_features + ['track_name']),\n",
        "                            test_cat_data],\n",
        "                           axis='columns')"
      ],
      "metadata": {
        "colab": {
          "base_uri": "https://localhost:8080/"
        },
        "id": "VRH8i2jTsPs5",
        "outputId": "38130655-13b6-47ed-eae5-1d6cc5197141"
      },
      "execution_count": null,
      "outputs": [
        {
          "output_type": "stream",
          "name": "stderr",
          "text": [
            "/usr/local/lib/python3.10/dist-packages/sklearn/preprocessing/_encoders.py:808: FutureWarning: `sparse` was renamed to `sparse_output` in version 1.2 and will be removed in 1.4. `sparse_output` is ignored unless you leave `sparse` to its default value.\n",
            "  warnings.warn(\n"
          ]
        }
      ]
    },
    {
      "cell_type": "markdown",
      "source": [
        "Перебираем параметр `max_depth` у модели sklearn.ensemble.RandomForestRegressor. Считаем метрики на train, test."
      ],
      "metadata": {
        "id": "7LwjMVFM8qmN"
      }
    },
    {
      "cell_type": "code",
      "source": [
        "rf_metrics = []\n",
        "for depth in tqdm(range(8, 17)):\n",
        "    rf_model = RandomForestRegressor(n_estimators=100,\n",
        "                                     max_depth=depth,\n",
        "                                     n_jobs=-1).fit(\n",
        "        full_train_data,\n",
        "        y_train)\n",
        "    rf_metrics.append({'train': r2_score(y_train, rf_model.predict(full_train_data)),\n",
        "                       'test': r2_score(y_test, rf_model.predict(full_test_data))})"
      ],
      "metadata": {
        "colab": {
          "base_uri": "https://localhost:8080/"
        },
        "id": "8WQtD6jjsTAO",
        "outputId": "cd666c33-6502-4a68-eb46-fe5985aca2b5"
      },
      "execution_count": null,
      "outputs": [
        {
          "output_type": "stream",
          "name": "stderr",
          "text": [
            "100%|██████████| 9/9 [04:23<00:00, 29.33s/it]\n"
          ]
        }
      ]
    },
    {
      "cell_type": "code",
      "source": [
        "plt.figure(figsize=(10,6))\n",
        "plt.plot(np.arange(8, 17),\n",
        "         [item['test'] for item in rf_metrics],\n",
        "         label='Random Forest test R2', color='red')\n",
        "plt.scatter(np.arange(8, 17),\n",
        "            [item['test'] for item in rf_metrics],\n",
        "            color='red')\n",
        "\n",
        "plt.plot(np.arange(8, 17),\n",
        "         [item['train'] for item in rf_metrics],\n",
        "         label='Random Forest train R2', color='blue')\n",
        "plt.scatter(np.arange(8, 17),\n",
        "            [item['train'] for item in rf_metrics],\n",
        "            color='blue')\n",
        "\n",
        "plt.xlabel('depth')\n",
        "plt.ylabel('R2-score')\n",
        "plt.grid()\n",
        "plt.legend()"
      ],
      "metadata": {
        "colab": {
          "base_uri": "https://localhost:8080/",
          "height": 559
        },
        "id": "1XjN3U_LseHZ",
        "outputId": "9d2a9dec-bd28-43ea-fd9a-b610d8c27c65"
      },
      "execution_count": null,
      "outputs": [
        {
          "output_type": "execute_result",
          "data": {
            "text/plain": [
              "<matplotlib.legend.Legend at 0x7f7554a15300>"
            ]
          },
          "metadata": {},
          "execution_count": 9
        },
        {
          "output_type": "display_data",
          "data": {
            "text/plain": [
              "<Figure size 1000x600 with 1 Axes>"
            ],
            "image/png": "[encoded data removed]"
          },
          "metadata": {}
        }
      ]
    },
    {
      "cell_type": "code",
      "source": [
        "plt.figure(figsize=(10,6))\n",
        "plt.plot(np.arange(8, 17),\n",
        "         [item['test'] for item in rf_metrics],\n",
        "         label='Random Forest test R2', color='red')\n",
        "plt.scatter(np.arange(8, 17),\n",
        "            [item['test'] for item in rf_metrics],\n",
        "            color='red')\n",
        "\n",
        "plt.xlabel('depth')\n",
        "plt.ylabel('R2-score')\n",
        "plt.grid()\n",
        "plt.legend()"
      ],
      "metadata": {
        "colab": {
          "base_uri": "https://localhost:8080/",
          "height": 559
        },
        "id": "j-JwoDvWvieJ",
        "outputId": "52db543b-2325-4dd1-a07f-a1dad5ecc142"
      },
      "execution_count": null,
      "outputs": [
        {
          "output_type": "execute_result",
          "data": {
            "text/plain": [
              "<matplotlib.legend.Legend at 0x7f75549a02e0>"
            ]
          },
          "metadata": {},
          "execution_count": 10
        },
        {
          "output_type": "display_data",
          "data": {
            "text/plain": [
              "<Figure size 1000x600 with 1 Axes>"
            ],
            "image/png": "[encoded data removed]"
          },
          "metadata": {}
        }
      ]
    },
    {
      "cell_type": "markdown",
      "source": [
        "Оптимальный параметр глубины --- `max_depth=15`. Обучим окончательную модель, предскажем ответы на `data_scoring` и сформируем submission."
      ],
      "metadata": {
        "id": "FB7EZ3mhsyOn"
      }
    },
    {
      "cell_type": "code",
      "source": [
        "data_scoring = pd.read_csv('data_scoring.csv', index_col='track_id')\n",
        "data_scoring.head()"
      ],
      "metadata": {
        "colab": {
          "base_uri": "https://localhost:8080/",
          "height": 406
        },
        "id": "X6RJwFVmsyaO",
        "outputId": "115e2a6a-0bca-478c-b2df-d054c56cfc8d"
      },
      "execution_count": null,
      "outputs": [
        {
          "output_type": "execute_result",
          "data": {
            "text/plain": [
              "                           artist_name                       track_name  \\\n",
              "track_id                                                                  \n",
              "6D8WgDaIuyirn6egGauzVK          RITUAL                     Love Me Back   \n",
              "7ywsuXRTQ9xNKhZSmSD3Q0  Dalton Mauldin               Nights Without You   \n",
              "1eoGO19WEflJbAV8BLebhr        Pandrezz                            Orion   \n",
              "3G79AJm9H5lKnngSgBT21L         Mc Davi                    Ela Tá Que Tá   \n",
              "2htWos5rGxFWSfLTyvpymm          G-Eazy  But A Dream - Alex Lustig Remix   \n",
              "\n",
              "                        acousticness  danceability  duration_ms  energy  \\\n",
              "track_id                                                                  \n",
              "6D8WgDaIuyirn6egGauzVK         0.498         0.745       178233   0.664   \n",
              "7ywsuXRTQ9xNKhZSmSD3Q0         0.221         0.539       157751   0.536   \n",
              "1eoGO19WEflJbAV8BLebhr         0.805         0.684       152000   0.255   \n",
              "3G79AJm9H5lKnngSgBT21L         0.128         0.750       206829   0.418   \n",
              "2htWos5rGxFWSfLTyvpymm         0.401         0.563       198058   0.633   \n",
              "\n",
              "                        instrumentalness  key  liveness  loudness  mode  \\\n",
              "track_id                                                                  \n",
              "6D8WgDaIuyirn6egGauzVK          0.000008    1    0.0777    -4.280     1   \n",
              "7ywsuXRTQ9xNKhZSmSD3Q0          0.000000    5    0.4940    -8.722     1   \n",
              "1eoGO19WEflJbAV8BLebhr          0.790000   10    0.0884    -9.381     0   \n",
              "3G79AJm9H5lKnngSgBT21L          0.000000    0    0.1280   -10.011     1   \n",
              "2htWos5rGxFWSfLTyvpymm          0.000000    5    0.1090    -6.252     0   \n",
              "\n",
              "                        speechiness    tempo  time_signature  valence  \n",
              "track_id                                                               \n",
              "6D8WgDaIuyirn6egGauzVK       0.0613  108.067               4    0.468  \n",
              "7ywsuXRTQ9xNKhZSmSD3Q0       0.0552  183.784               4    0.725  \n",
              "1eoGO19WEflJbAV8BLebhr       0.0445   84.226               4    0.330  \n",
              "3G79AJm9H5lKnngSgBT21L       0.0496  123.007               4    0.253  \n",
              "2htWos5rGxFWSfLTyvpymm       0.2700  156.000               4    0.306  "
            ],
            "text/html": [
              "\n",
              "  <div id=\"df-86e60e4b-c1a8-4d67-8984-9e90a5f7da95\">\n",
              "    <div class=\"colab-df-container\">\n",
              "      <div>\n",
              "<style scoped>\n",
              "    .dataframe tbody tr th:only-of-type {\n",
              "        vertical-align: middle;\n",
              "    }\n",
              "\n",
              "    .dataframe tbody tr th {\n",
              "        vertical-align: top;\n",
              "    }\n",
              "\n",
              "    .dataframe thead th {\n",
              "        text-align: right;\n",
              "    }\n",
              "</style>\n",
              "<table border=\"1\" class=\"dataframe\">\n",
              "  <thead>\n",
              "    <tr style=\"text-align: right;\">\n",
              "      <th></th>\n",
              "      <th>artist_name</th>\n",
              "      <th>track_name</th>\n",
              "      <th>acousticness</th>\n",
              "      <th>danceability</th>\n",
              "      <th>duration_ms</th>\n",
              "      <th>energy</th>\n",
              "      <th>instrumentalness</th>\n",
              "      <th>key</th>\n",
              "      <th>liveness</th>\n",
              "      <th>loudness</th>\n",
              "      <th>mode</th>\n",
              "      <th>speechiness</th>\n",
              "      <th>tempo</th>\n",
              "      <th>time_signature</th>\n",
              "      <th>valence</th>\n",
              "    </tr>\n",
              "    <tr>\n",
              "      <th>track_id</th>\n",
              "      <th></th>\n",
              "      <th></th>\n",
              "      <th></th>\n",
              "      <th></th>\n",
              "      <th></th>\n",
              "      <th></th>\n",
              "      <th></th>\n",
              "      <th></th>\n",
              "      <th></th>\n",
              "      <th></th>\n",
              "      <th></th>\n",
              "      <th></th>\n",
              "      <th></th>\n",
              "      <th></th>\n",
              "      <th></th>\n",
              "    </tr>\n",
              "  </thead>\n",
              "  <tbody>\n",
              "    <tr>\n",
              "      <th>6D8WgDaIuyirn6egGauzVK</th>\n",
              "      <td>RITUAL</td>\n",
              "      <td>Love Me Back</td>\n",
              "      <td>0.498</td>\n",
              "      <td>0.745</td>\n",
              "      <td>178233</td>\n",
              "      <td>0.664</td>\n",
              "      <td>0.000008</td>\n",
              "      <td>1</td>\n",
              "      <td>0.0777</td>\n",
              "      <td>-4.280</td>\n",
              "      <td>1</td>\n",
              "      <td>0.0613</td>\n",
              "      <td>108.067</td>\n",
              "      <td>4</td>\n",
              "      <td>0.468</td>\n",
              "    </tr>\n",
              "    <tr>\n",
              "      <th>7ywsuXRTQ9xNKhZSmSD3Q0</th>\n",
              "      <td>Dalton Mauldin</td>\n",
              "      <td>Nights Without You</td>\n",
              "      <td>0.221</td>\n",
              "      <td>0.539</td>\n",
              "      <td>157751</td>\n",
              "      <td>0.536</td>\n",
              "      <td>0.000000</td>\n",
              "      <td>5</td>\n",
              "      <td>0.4940</td>\n",
              "      <td>-8.722</td>\n",
              "      <td>1</td>\n",
              "      <td>0.0552</td>\n",
              "      <td>183.784</td>\n",
              "      <td>4</td>\n",
              "      <td>0.725</td>\n",
              "    </tr>\n",
              "    <tr>\n",
              "      <th>1eoGO19WEflJbAV8BLebhr</th>\n",
              "      <td>Pandrezz</td>\n",
              "      <td>Orion</td>\n",
              "      <td>0.805</td>\n",
              "      <td>0.684</td>\n",
              "      <td>152000</td>\n",
              "      <td>0.255</td>\n",
              "      <td>0.790000</td>\n",
              "      <td>10</td>\n",
              "      <td>0.0884</td>\n",
              "      <td>-9.381</td>\n",
              "      <td>0</td>\n",
              "      <td>0.0445</td>\n",
              "      <td>84.226</td>\n",
              "      <td>4</td>\n",
              "      <td>0.330</td>\n",
              "    </tr>\n",
              "    <tr>\n",
              "      <th>3G79AJm9H5lKnngSgBT21L</th>\n",
              "      <td>Mc Davi</td>\n",
              "      <td>Ela Tá Que Tá</td>\n",
              "      <td>0.128</td>\n",
              "      <td>0.750</td>\n",
              "      <td>206829</td>\n",
              "      <td>0.418</td>\n",
              "      <td>0.000000</td>\n",
              "      <td>0</td>\n",
              "      <td>0.1280</td>\n",
              "      <td>-10.011</td>\n",
              "      <td>1</td>\n",
              "      <td>0.0496</td>\n",
              "      <td>123.007</td>\n",
              "      <td>4</td>\n",
              "      <td>0.253</td>\n",
              "    </tr>\n",
              "    <tr>\n",
              "      <th>2htWos5rGxFWSfLTyvpymm</th>\n",
              "      <td>G-Eazy</td>\n",
              "      <td>But A Dream - Alex Lustig Remix</td>\n",
              "      <td>0.401</td>\n",
              "      <td>0.563</td>\n",
              "      <td>198058</td>\n",
              "      <td>0.633</td>\n",
              "      <td>0.000000</td>\n",
              "      <td>5</td>\n",
              "      <td>0.1090</td>\n",
              "      <td>-6.252</td>\n",
              "      <td>0</td>\n",
              "      <td>0.2700</td>\n",
              "      <td>156.000</td>\n",
              "      <td>4</td>\n",
              "      <td>0.306</td>\n",
              "    </tr>\n",
              "  </tbody>\n",
              "</table>\n",
              "</div>\n",
              "      <button class=\"colab-df-convert\" onclick=\"convertToInteractive('df-86e60e4b-c1a8-4d67-8984-9e90a5f7da95')\"\n",
              "              title=\"Convert this dataframe to an interactive table.\"\n",
              "              style=\"display:none;\">\n",
              "        \n",
              "  <svg xmlns=\"http://www.w3.org/2000/svg\" height=\"24px\"viewBox=\"0 0 24 24\"\n",
              "       width=\"24px\">\n",
              "    <path d=\"M0 0h24v24H0V0z\" fill=\"none\"/>\n",
              "    <path d=\"M18.56 5.44l.94 2.06.94-2.06 2.06-.94-2.06-.94-.94-2.06-.94 2.06-2.06.94zm-11 1L8.5 8.5l.94-2.06 2.06-.94-2.06-.94L8.5 2.5l-.94 2.06-2.06.94zm10 10l.94 2.06.94-2.06 2.06-.94-2.06-.94-.94-2.06-.94 2.06-2.06.94z\"/><path d=\"M17.41 7.96l-1.37-1.37c-.4-.4-.92-.59-1.43-.59-.52 0-1.04.2-1.43.59L10.3 9.45l-7.72 7.72c-.78.78-.78 2.05 0 2.83L4 21.41c.39.39.9.59 1.41.59.51 0 1.02-.2 1.41-.59l7.78-7.78 2.81-2.81c.8-.78.8-2.07 0-2.86zM5.41 20L4 18.59l7.72-7.72 1.47 1.35L5.41 20z\"/>\n",
              "  </svg>\n",
              "      </button>\n",
              "      \n",
              "  <style>\n",
              "    .colab-df-container {\n",
              "      display:flex;\n",
              "      flex-wrap:wrap;\n",
              "      gap: 12px;\n",
              "    }\n",
              "\n",
              "    .colab-df-convert {\n",
              "      background-color: #E8F0FE;\n",
              "      border: none;\n",
              "      border-radius: 50%;\n",
              "      cursor: pointer;\n",
              "      display: none;\n",
              "      fill: #1967D2;\n",
              "      height: 32px;\n",
              "      padding: 0 0 0 0;\n",
              "      width: 32px;\n",
              "    }\n",
              "\n",
              "    .colab-df-convert:hover {\n",
              "      background-color: #E2EBFA;\n",
              "      box-shadow: 0px 1px 2px rgba(60, 64, 67, 0.3), 0px 1px 3px 1px rgba(60, 64, 67, 0.15);\n",
              "      fill: #174EA6;\n",
              "    }\n",
              "\n",
              "    [theme=dark] .colab-df-convert {\n",
              "      background-color: #3B4455;\n",
              "      fill: #D2E3FC;\n",
              "    }\n",
              "\n",
              "    [theme=dark] .colab-df-convert:hover {\n",
              "      background-color: #434B5C;\n",
              "      box-shadow: 0px 1px 3px 1px rgba(0, 0, 0, 0.15);\n",
              "      filter: drop-shadow(0px 1px 2px rgba(0, 0, 0, 0.3));\n",
              "      fill: #FFFFFF;\n",
              "    }\n",
              "  </style>\n",
              "\n",
              "      <script>\n",
              "        const buttonEl =\n",
              "          document.querySelector('#df-86e60e4b-c1a8-4d67-8984-9e90a5f7da95 button.colab-df-convert');\n",
              "        buttonEl.style.display =\n",
              "          google.colab.kernel.accessAllowed ? 'block' : 'none';\n",
              "\n",
              "        async function convertToInteractive(key) {\n",
              "          const element = document.querySelector('#df-86e60e4b-c1a8-4d67-8984-9e90a5f7da95');\n",
              "          const dataTable =\n",
              "            await google.colab.kernel.invokeFunction('convertToInteractive',\n",
              "                                                     [key], {});\n",
              "          if (!dataTable) return;\n",
              "\n",
              "          const docLinkHtml = 'Like what you see? Visit the ' +\n",
              "            '<a target=\"_blank\" href=https://colab.research.google.com/notebooks/data_table.ipynb>data table notebook</a>'\n",
              "            + ' to learn more about interactive tables.';\n",
              "          element.innerHTML = '';\n",
              "          dataTable['output_type'] = 'display_data';\n",
              "          await google.colab.output.renderOutput(dataTable, element);\n",
              "          const docLink = document.createElement('div');\n",
              "          docLink.innerHTML = docLinkHtml;\n",
              "          element.appendChild(docLink);\n",
              "        }\n",
              "      </script>\n",
              "    </div>\n",
              "  </div>\n",
              "  "
            ]
          },
          "metadata": {},
          "execution_count": 11
        }
      ]
    },
    {
      "cell_type": "code",
      "source": [
        "scoring_cat_data = pd.DataFrame(encoder.fit_transform(data_scoring[cat_features[1:]]),\n",
        "                              index=data_scoring.index,\n",
        "                              columns=encoder.get_feature_names_out())\n",
        "\n",
        "full_scoring_data = pd.concat([data_scoring.drop(columns=cat_features + ['track_name']),\n",
        "                             scoring_cat_data],\n",
        "                            axis='columns')"
      ],
      "metadata": {
        "colab": {
          "base_uri": "https://localhost:8080/"
        },
        "id": "2NhllMwqwIOp",
        "outputId": "9672414c-17e2-4661-aab3-ab306d2299af"
      },
      "execution_count": null,
      "outputs": [
        {
          "output_type": "stream",
          "name": "stderr",
          "text": [
            "/usr/local/lib/python3.10/dist-packages/sklearn/preprocessing/_encoders.py:808: FutureWarning: `sparse` was renamed to `sparse_output` in version 1.2 and will be removed in 1.4. `sparse_output` is ignored unless you leave `sparse` to its default value.\n",
            "  warnings.warn(\n"
          ]
        }
      ]
    },
    {
      "cell_type": "code",
      "source": [
        "model = RandomForestRegressor(max_depth=15)\n",
        "model.fit(full_train_data, y_train)\n",
        "\n",
        "y_scoring = np.clip(model.predict(full_scoring_data), 0, 100)"
      ],
      "metadata": {
        "id": "_9Y4qOcxtC12"
      },
      "execution_count": null,
      "outputs": []
    },
    {
      "cell_type": "code",
      "source": [
        "submission = pd.Series(y_scoring, index=data_scoring.index, name='popularity')\n",
        "submission.head()"
      ],
      "metadata": {
        "colab": {
          "base_uri": "https://localhost:8080/"
        },
        "id": "DIFGa5zVtXoy",
        "outputId": "cc28916b-d89c-4fcf-9320-bed02c6d79ad"
      },
      "execution_count": null,
      "outputs": [
        {
          "output_type": "execute_result",
          "data": {
            "text/plain": [
              "track_id\n",
              "6D8WgDaIuyirn6egGauzVK    38.202020\n",
              "7ywsuXRTQ9xNKhZSmSD3Q0    24.897710\n",
              "1eoGO19WEflJbAV8BLebhr    33.478257\n",
              "3G79AJm9H5lKnngSgBT21L    25.499358\n",
              "2htWos5rGxFWSfLTyvpymm    30.903078\n",
              "Name: popularity, dtype: float64"
            ]
          },
          "metadata": {},
          "execution_count": 14
        }
      ]
    },
    {
      "cell_type": "markdown",
      "source": [
        "Обратите внимание, что порядок строчек в submission должен быть такой же, как и в data_scoring.csv!"
      ],
      "metadata": {
        "id": "Yp9UDnZr9ESe"
      }
    },
    {
      "cell_type": "code",
      "source": [
        "submission.to_csv('baseline_submission.csv')"
      ],
      "metadata": {
        "id": "fl8lXhkXtaN1"
      },
      "execution_count": null,
      "outputs": []
    },
    {
      "cell_type": "markdown",
      "source": [
        "1"
      ],
      "metadata": {
        "id": "Rb4sdw_hdlVn"
      }
    },
    {
      "cell_type": "markdown",
      "source": [
        "2"
      ],
      "metadata": {
        "id": "8XAgLVx_dlLJ"
      }
    },
    {
      "cell_type": "markdown",
      "source": [
        " 3"
      ],
      "metadata": {
        "id": "EPjhQkSmdk0l"
      }
    },
    {
      "cell_type": "markdown",
      "source": [
        "**Градиентный бустинг с CatBoostRegressor**"
      ],
      "metadata": {
        "id": "BRdJ4U5KaX1z"
      }
    },
    {
      "cell_type": "code",
      "source": [
        "!pip install catboost\n",
        "from catboost import Pool, cv, CatBoostRegressor"
      ],
      "metadata": {
        "colab": {
          "base_uri": "https://localhost:8080/"
        },
        "id": "CRrPp5yWaWdL",
        "outputId": "f507ee75-f05b-4f64-87e1-3d10941ba329"
      },
      "execution_count": 6,
      "outputs": [
        {
          "output_type": "stream",
          "name": "stdout",
          "text": [
            "Collecting catboost\n",
            "  Downloading catboost-1.2-cp310-cp310-manylinux2014_x86_64.whl (98.6 MB)\n",
            "\u001b[2K     \u001b[90m━━━━━━━━━━━━━━━━━━━━━━━━━━━━━━━━━━━━━━━━\u001b[0m \u001b[32m98.6/98.6 MB\u001b[0m \u001b[31m4.1 MB/s\u001b[0m eta \u001b[36m0:00:00\u001b[0m\n",
            "\u001b[?25hRequirement already satisfied: graphviz in /usr/local/lib/python3.10/dist-packages (from catboost) (0.20.1)\n",
            "Requirement already satisfied: matplotlib in /usr/local/lib/python3.10/dist-packages (from catboost) (3.7.1)\n",
            "Requirement already satisfied: numpy>=1.16.0 in /usr/local/lib/python3.10/dist-packages (from catboost) (1.22.4)\n",
            "Requirement already satisfied: pandas>=0.24 in /usr/local/lib/python3.10/dist-packages (from catboost) (1.5.3)\n",
            "Requirement already satisfied: scipy in /usr/local/lib/python3.10/dist-packages (from catboost) (1.10.1)\n",
            "Requirement already satisfied: plotly in /usr/local/lib/python3.10/dist-packages (from catboost) (5.13.1)\n",
            "Requirement already satisfied: six in /usr/local/lib/python3.10/dist-packages (from catboost) (1.16.0)\n",
            "Requirement already satisfied: python-dateutil>=2.8.1 in /usr/local/lib/python3.10/dist-packages (from pandas>=0.24->catboost) (2.8.2)\n",
            "Requirement already satisfied: pytz>=2020.1 in /usr/local/lib/python3.10/dist-packages (from pandas>=0.24->catboost) (2022.7.1)\n",
            "Requirement already satisfied: contourpy>=1.0.1 in /usr/local/lib/python3.10/dist-packages (from matplotlib->catboost) (1.1.0)\n",
            "Requirement already satisfied: cycler>=0.10 in /usr/local/lib/python3.10/dist-packages (from matplotlib->catboost) (0.11.0)\n",
            "Requirement already satisfied: fonttools>=4.22.0 in /usr/local/lib/python3.10/dist-packages (from matplotlib->catboost) (4.40.0)\n",
            "Requirement already satisfied: kiwisolver>=1.0.1 in /usr/local/lib/python3.10/dist-packages (from matplotlib->catboost) (1.4.4)\n",
            "Requirement already satisfied: packaging>=20.0 in /usr/local/lib/python3.10/dist-packages (from matplotlib->catboost) (23.1)\n",
            "Requirement already satisfied: pillow>=6.2.0 in /usr/local/lib/python3.10/dist-packages (from matplotlib->catboost) (8.4.0)\n",
            "Requirement already satisfied: pyparsing>=2.3.1 in /usr/local/lib/python3.10/dist-packages (from matplotlib->catboost) (3.1.0)\n",
            "Requirement already satisfied: tenacity>=6.2.0 in /usr/local/lib/python3.10/dist-packages (from plotly->catboost) (8.2.2)\n",
            "Installing collected packages: catboost\n",
            "Successfully installed catboost-1.2\n"
          ]
        }
      ]
    },
    {
      "cell_type": "code",
      "source": [
        "data[data.values == 'El Lazo']"
      ],
      "metadata": {
        "colab": {
          "base_uri": "https://localhost:8080/",
          "height": 193
        },
        "id": "3cH9BaIygWtZ",
        "outputId": "8e1d1b76-31a7-4931-a1c2-915fb6852e83"
      },
      "execution_count": 7,
      "outputs": [
        {
          "output_type": "execute_result",
          "data": {
            "text/plain": [
              "                           artist_name track_name  acousticness  danceability  \\\n",
              "track_id                                                                        \n",
              "6iE362rAJ5ZfECKU3eL0KO  Red Sun Rising    El Lazo      0.000467         0.496   \n",
              "\n",
              "                        duration_ms  energy  instrumentalness  key  liveness  \\\n",
              "track_id                                                                       \n",
              "6iE362rAJ5ZfECKU3eL0KO       220227   0.839          0.000003    6     0.036   \n",
              "\n",
              "                        loudness  mode  speechiness   tempo  time_signature  \\\n",
              "track_id                                                                      \n",
              "6iE362rAJ5ZfECKU3eL0KO    -5.725     1       0.0324  99.956               4   \n",
              "\n",
              "                        valence  popularity  \n",
              "track_id                                     \n",
              "6iE362rAJ5ZfECKU3eL0KO    0.385           0  "
            ],
            "text/html": [
              "\n",
              "  <div id=\"df-3248ab61-2467-47c3-aa5b-52a6ce30e73b\">\n",
              "    <div class=\"colab-df-container\">\n",
              "      <div>\n",
              "<style scoped>\n",
              "    .dataframe tbody tr th:only-of-type {\n",
              "        vertical-align: middle;\n",
              "    }\n",
              "\n",
              "    .dataframe tbody tr th {\n",
              "        vertical-align: top;\n",
              "    }\n",
              "\n",
              "    .dataframe thead th {\n",
              "        text-align: right;\n",
              "    }\n",
              "</style>\n",
              "<table border=\"1\" class=\"dataframe\">\n",
              "  <thead>\n",
              "    <tr style=\"text-align: right;\">\n",
              "      <th></th>\n",
              "      <th>artist_name</th>\n",
              "      <th>track_name</th>\n",
              "      <th>acousticness</th>\n",
              "      <th>danceability</th>\n",
              "      <th>duration_ms</th>\n",
              "      <th>energy</th>\n",
              "      <th>instrumentalness</th>\n",
              "      <th>key</th>\n",
              "      <th>liveness</th>\n",
              "      <th>loudness</th>\n",
              "      <th>mode</th>\n",
              "      <th>speechiness</th>\n",
              "      <th>tempo</th>\n",
              "      <th>time_signature</th>\n",
              "      <th>valence</th>\n",
              "      <th>popularity</th>\n",
              "    </tr>\n",
              "    <tr>\n",
              "      <th>track_id</th>\n",
              "      <th></th>\n",
              "      <th></th>\n",
              "      <th></th>\n",
              "      <th></th>\n",
              "      <th></th>\n",
              "      <th></th>\n",
              "      <th></th>\n",
              "      <th></th>\n",
              "      <th></th>\n",
              "      <th></th>\n",
              "      <th></th>\n",
              "      <th></th>\n",
              "      <th></th>\n",
              "      <th></th>\n",
              "      <th></th>\n",
              "      <th></th>\n",
              "    </tr>\n",
              "  </thead>\n",
              "  <tbody>\n",
              "    <tr>\n",
              "      <th>6iE362rAJ5ZfECKU3eL0KO</th>\n",
              "      <td>Red Sun Rising</td>\n",
              "      <td>El Lazo</td>\n",
              "      <td>0.000467</td>\n",
              "      <td>0.496</td>\n",
              "      <td>220227</td>\n",
              "      <td>0.839</td>\n",
              "      <td>0.000003</td>\n",
              "      <td>6</td>\n",
              "      <td>0.036</td>\n",
              "      <td>-5.725</td>\n",
              "      <td>1</td>\n",
              "      <td>0.0324</td>\n",
              "      <td>99.956</td>\n",
              "      <td>4</td>\n",
              "      <td>0.385</td>\n",
              "      <td>0</td>\n",
              "    </tr>\n",
              "  </tbody>\n",
              "</table>\n",
              "</div>\n",
              "      <button class=\"colab-df-convert\" onclick=\"convertToInteractive('df-3248ab61-2467-47c3-aa5b-52a6ce30e73b')\"\n",
              "              title=\"Convert this dataframe to an interactive table.\"\n",
              "              style=\"display:none;\">\n",
              "        \n",
              "  <svg xmlns=\"http://www.w3.org/2000/svg\" height=\"24px\"viewBox=\"0 0 24 24\"\n",
              "       width=\"24px\">\n",
              "    <path d=\"M0 0h24v24H0V0z\" fill=\"none\"/>\n",
              "    <path d=\"M18.56 5.44l.94 2.06.94-2.06 2.06-.94-2.06-.94-.94-2.06-.94 2.06-2.06.94zm-11 1L8.5 8.5l.94-2.06 2.06-.94-2.06-.94L8.5 2.5l-.94 2.06-2.06.94zm10 10l.94 2.06.94-2.06 2.06-.94-2.06-.94-.94-2.06-.94 2.06-2.06.94z\"/><path d=\"M17.41 7.96l-1.37-1.37c-.4-.4-.92-.59-1.43-.59-.52 0-1.04.2-1.43.59L10.3 9.45l-7.72 7.72c-.78.78-.78 2.05 0 2.83L4 21.41c.39.39.9.59 1.41.59.51 0 1.02-.2 1.41-.59l7.78-7.78 2.81-2.81c.8-.78.8-2.07 0-2.86zM5.41 20L4 18.59l7.72-7.72 1.47 1.35L5.41 20z\"/>\n",
              "  </svg>\n",
              "      </button>\n",
              "      \n",
              "  <style>\n",
              "    .colab-df-container {\n",
              "      display:flex;\n",
              "      flex-wrap:wrap;\n",
              "      gap: 12px;\n",
              "    }\n",
              "\n",
              "    .colab-df-convert {\n",
              "      background-color: #E8F0FE;\n",
              "      border: none;\n",
              "      border-radius: 50%;\n",
              "      cursor: pointer;\n",
              "      display: none;\n",
              "      fill: #1967D2;\n",
              "      height: 32px;\n",
              "      padding: 0 0 0 0;\n",
              "      width: 32px;\n",
              "    }\n",
              "\n",
              "    .colab-df-convert:hover {\n",
              "      background-color: #E2EBFA;\n",
              "      box-shadow: 0px 1px 2px rgba(60, 64, 67, 0.3), 0px 1px 3px 1px rgba(60, 64, 67, 0.15);\n",
              "      fill: #174EA6;\n",
              "    }\n",
              "\n",
              "    [theme=dark] .colab-df-convert {\n",
              "      background-color: #3B4455;\n",
              "      fill: #D2E3FC;\n",
              "    }\n",
              "\n",
              "    [theme=dark] .colab-df-convert:hover {\n",
              "      background-color: #434B5C;\n",
              "      box-shadow: 0px 1px 3px 1px rgba(0, 0, 0, 0.15);\n",
              "      filter: drop-shadow(0px 1px 2px rgba(0, 0, 0, 0.3));\n",
              "      fill: #FFFFFF;\n",
              "    }\n",
              "  </style>\n",
              "\n",
              "      <script>\n",
              "        const buttonEl =\n",
              "          document.querySelector('#df-3248ab61-2467-47c3-aa5b-52a6ce30e73b button.colab-df-convert');\n",
              "        buttonEl.style.display =\n",
              "          google.colab.kernel.accessAllowed ? 'block' : 'none';\n",
              "\n",
              "        async function convertToInteractive(key) {\n",
              "          const element = document.querySelector('#df-3248ab61-2467-47c3-aa5b-52a6ce30e73b');\n",
              "          const dataTable =\n",
              "            await google.colab.kernel.invokeFunction('convertToInteractive',\n",
              "                                                     [key], {});\n",
              "          if (!dataTable) return;\n",
              "\n",
              "          const docLinkHtml = 'Like what you see? Visit the ' +\n",
              "            '<a target=\"_blank\" href=https://colab.research.google.com/notebooks/data_table.ipynb>data table notebook</a>'\n",
              "            + ' to learn more about interactive tables.';\n",
              "          element.innerHTML = '';\n",
              "          dataTable['output_type'] = 'display_data';\n",
              "          await google.colab.output.renderOutput(dataTable, element);\n",
              "          const docLink = document.createElement('div');\n",
              "          docLink.innerHTML = docLinkHtml;\n",
              "          element.appendChild(docLink);\n",
              "        }\n",
              "      </script>\n",
              "    </div>\n",
              "  </div>\n",
              "  "
            ]
          },
          "metadata": {},
          "execution_count": 7
        }
      ]
    },
    {
      "cell_type": "code",
      "source": [
        "X_train = X_train.drop('track_name', 1)\n",
        "X_test = X_test.drop('track_name', 1)"
      ],
      "metadata": {
        "colab": {
          "base_uri": "https://localhost:8080/"
        },
        "id": "2MQCIXuWj6-O",
        "outputId": "4c1a049f-0094-4058-c52e-8cbac7894400"
      },
      "execution_count": 8,
      "outputs": [
        {
          "output_type": "stream",
          "name": "stderr",
          "text": [
            "<ipython-input-8-ba0065219940>:1: FutureWarning: In a future version of pandas all arguments of DataFrame.drop except for the argument 'labels' will be keyword-only.\n",
            "  X_train = X_train.drop('track_name', 1)\n",
            "<ipython-input-8-ba0065219940>:2: FutureWarning: In a future version of pandas all arguments of DataFrame.drop except for the argument 'labels' will be keyword-only.\n",
            "  X_test = X_test.drop('track_name', 1)\n"
          ]
        }
      ]
    },
    {
      "cell_type": "code",
      "source": [
        "train_data_boost = Pool(data=X_train,\n",
        "                  label=y_train,\n",
        "                  cat_features=cat_features)\n",
        "\n",
        "test_data_boost = Pool(data=X_test,\n",
        "                  label=y_test,\n",
        "                  cat_features=cat_features)"
      ],
      "metadata": {
        "id": "4XGP6vucaWZ9"
      },
      "execution_count": 9,
      "outputs": []
    },
    {
      "cell_type": "code",
      "source": [
        "depths = np.arange(5, 14)\n",
        "metrics = []\n",
        "\n",
        "for depth in depths:\n",
        "    params = {\n",
        "        'iterations':1000,\n",
        "        'depth':depth,\n",
        "        'loss_function':'MAE',\n",
        "        'custom_loss':'R2',\n",
        "        'verbose':False\n",
        "        }\n",
        "    scores = cv(train_data_boost,\n",
        "                params,\n",
        "                fold_count=5,\n",
        "                early_stopping_rounds=20)\n",
        "    metrics.append(max(scores['test-R2-mean'].values))"
      ],
      "metadata": {
        "colab": {
          "base_uri": "https://localhost:8080/"
        },
        "id": "zVizKRaZaWXW",
        "outputId": "cb58959f-23e2-45cd-d176-7acd05efbdbf"
      },
      "execution_count": null,
      "outputs": [
        {
          "output_type": "stream",
          "name": "stdout",
          "text": [
            "Training on fold [0/5]\n",
            "\n",
            "bestTest = 11.04479955\n",
            "bestIteration = 993\n",
            "\n",
            "Training on fold [1/5]\n",
            "\n",
            "bestTest = 11.19763471\n",
            "bestIteration = 997\n",
            "\n",
            "Training on fold [2/5]\n",
            "\n",
            "bestTest = 10.99235171\n",
            "bestIteration = 998\n",
            "\n",
            "Training on fold [3/5]\n",
            "\n",
            "bestTest = 10.91650135\n",
            "bestIteration = 999\n",
            "\n",
            "Training on fold [4/5]\n",
            "\n",
            "bestTest = 11.11680156\n",
            "bestIteration = 995\n",
            "\n",
            "Training on fold [0/5]\n",
            "\n",
            "bestTest = 11.0129836\n",
            "bestIteration = 995\n",
            "\n",
            "Training on fold [1/5]\n",
            "\n",
            "bestTest = 11.14508825\n",
            "bestIteration = 997\n",
            "\n",
            "Training on fold [2/5]\n",
            "\n",
            "bestTest = 10.96759069\n",
            "bestIteration = 923\n",
            "\n",
            "Training on fold [3/5]\n",
            "\n",
            "bestTest = 10.87884665\n",
            "bestIteration = 998\n",
            "\n",
            "Training on fold [4/5]\n",
            "\n",
            "bestTest = 11.07964781\n",
            "bestIteration = 994\n",
            "\n",
            "Training on fold [0/5]\n",
            "\n",
            "bestTest = 10.97729095\n",
            "bestIteration = 986\n",
            "\n",
            "Training on fold [1/5]\n",
            "\n",
            "bestTest = 11.13210965\n",
            "bestIteration = 942\n",
            "\n",
            "Training on fold [2/5]\n",
            "\n",
            "bestTest = 10.94265922\n",
            "bestIteration = 996\n",
            "\n",
            "Training on fold [3/5]\n",
            "\n",
            "bestTest = 10.85844592\n",
            "bestIteration = 997\n",
            "\n",
            "Training on fold [4/5]\n",
            "\n",
            "bestTest = 11.04459911\n",
            "bestIteration = 987\n",
            "\n",
            "Training on fold [0/5]\n",
            "\n",
            "bestTest = 10.95546534\n",
            "bestIteration = 999\n",
            "\n",
            "Training on fold [1/5]\n",
            "\n",
            "bestTest = 11.10512594\n",
            "bestIteration = 857\n",
            "\n",
            "Training on fold [2/5]\n",
            "\n",
            "bestTest = 10.94335918\n",
            "bestIteration = 747\n",
            "\n",
            "Training on fold [3/5]\n",
            "\n",
            "bestTest = 10.84795296\n",
            "bestIteration = 854\n",
            "\n",
            "Training on fold [4/5]\n",
            "\n",
            "bestTest = 11.0477624\n",
            "bestIteration = 757\n",
            "\n",
            "Training on fold [0/5]\n",
            "\n",
            "bestTest = 10.94895671\n",
            "bestIteration = 935\n",
            "\n",
            "Training on fold [1/5]\n",
            "\n",
            "bestTest = 11.10613554\n",
            "bestIteration = 827\n",
            "\n",
            "Training on fold [2/5]\n",
            "\n",
            "bestTest = 10.91242541\n",
            "bestIteration = 913\n",
            "\n",
            "Training on fold [3/5]\n",
            "\n",
            "bestTest = 10.85979299\n",
            "bestIteration = 501\n",
            "\n",
            "Training on fold [4/5]\n",
            "\n",
            "bestTest = 11.02387646\n",
            "bestIteration = 783\n",
            "\n",
            "Training on fold [0/5]\n",
            "\n",
            "bestTest = 10.95039028\n",
            "bestIteration = 936\n",
            "\n",
            "Training on fold [1/5]\n",
            "\n",
            "bestTest = 11.104061\n",
            "bestIteration = 693\n",
            "\n",
            "Training on fold [2/5]\n",
            "\n",
            "bestTest = 10.9061437\n",
            "bestIteration = 724\n",
            "\n",
            "Training on fold [3/5]\n",
            "\n",
            "bestTest = 10.87161453\n",
            "bestIteration = 683\n",
            "\n",
            "Training on fold [4/5]\n",
            "\n",
            "bestTest = 11.06038949\n",
            "bestIteration = 504\n",
            "\n",
            "Training on fold [0/5]\n",
            "\n",
            "bestTest = 10.98652991\n",
            "bestIteration = 536\n",
            "\n",
            "Training on fold [1/5]\n",
            "\n",
            "bestTest = 11.10213732\n",
            "bestIteration = 610\n",
            "\n",
            "Training on fold [2/5]\n",
            "\n",
            "bestTest = 10.99655712\n",
            "bestIteration = 229\n",
            "\n",
            "Training on fold [3/5]\n",
            "\n",
            "bestTest = 10.8817364\n",
            "bestIteration = 496\n",
            "\n",
            "Training on fold [4/5]\n",
            "\n",
            "bestTest = 11.05869426\n",
            "bestIteration = 537\n",
            "\n",
            "Training on fold [0/5]\n",
            "\n",
            "bestTest = 10.96835031\n",
            "bestIteration = 588\n",
            "\n",
            "Training on fold [1/5]\n",
            "\n",
            "bestTest = 11.16376914\n",
            "bestIteration = 487\n",
            "\n",
            "Training on fold [2/5]\n",
            "\n",
            "bestTest = 10.94453895\n",
            "bestIteration = 411\n",
            "\n",
            "Training on fold [3/5]\n",
            "\n",
            "bestTest = 10.90491105\n",
            "bestIteration = 297\n",
            "\n",
            "Training on fold [4/5]\n",
            "\n",
            "bestTest = 11.10281573\n",
            "bestIteration = 296\n",
            "\n",
            "Training on fold [0/5]\n",
            "\n",
            "bestTest = 11.0014608\n",
            "bestIteration = 473\n",
            "\n",
            "Training on fold [1/5]\n",
            "\n",
            "bestTest = 11.19030655\n",
            "bestIteration = 327\n",
            "\n",
            "Training on fold [2/5]\n",
            "\n",
            "bestTest = 10.95161908\n",
            "bestIteration = 351\n",
            "\n",
            "Training on fold [3/5]\n",
            "\n",
            "bestTest = 10.929955\n",
            "bestIteration = 222\n",
            "\n",
            "Training on fold [4/5]\n",
            "\n",
            "bestTest = 11.08224136\n",
            "bestIteration = 367\n",
            "\n"
          ]
        }
      ]
    },
    {
      "cell_type": "code",
      "source": [
        "plt.figure(figsize=(10,6))\n",
        "plt.plot(np.arange(5, 14), metrics, label='CatBoost')\n",
        "plt.xlabel('depth')\n",
        "plt.ylabel('r2')\n",
        "plt.grid()\n",
        "plt.legend()"
      ],
      "metadata": {
        "colab": {
          "base_uri": "https://localhost:8080/",
          "height": 559
        },
        "id": "vwp6wS9aaWUe",
        "outputId": "086c7109-5b53-4705-999f-5c3bc937107c"
      },
      "execution_count": null,
      "outputs": [
        {
          "output_type": "execute_result",
          "data": {
            "text/plain": [
              "<matplotlib.legend.Legend at 0x7f75957c8100>"
            ]
          },
          "metadata": {},
          "execution_count": 48
        },
        {
          "output_type": "display_data",
          "data": {
            "text/plain": [
              "<Figure size 1000x600 with 1 Axes>"
            ],
            "image/png": "[encoded data removed]"
          },
          "metadata": {}
        }
      ]
    },
    {
      "cell_type": "code",
      "source": [
        "best_depth = 9\n",
        "\n",
        "boost_model = CatBoostRegressor(iterations=1000, depth=best_depth,\n",
        "                                loss_function='MAE', verbose=False, pinned_memory_size=2)\n",
        "boost_model.fit(train_data_boost)\n",
        "\n",
        "train_y_pred = boost_model.predict(train_data_boost)\n",
        "test_y_pred = boost_model.predict(test_data_boost)\n",
        "\n",
        "train_r2 = r2_score(y_train, train_y_pred)\n",
        "test_r2 = r2_score(y_test, test_y_pred)"
      ],
      "metadata": {
        "id": "7nF6PVCLaWR9"
      },
      "execution_count": 11,
      "outputs": []
    },
    {
      "cell_type": "code",
      "source": [
        "test_r2"
      ],
      "metadata": {
        "id": "uZ4d1ts_1Uw5",
        "outputId": "c67708a2-4d78-4d7b-84af-c83948d406ad",
        "colab": {
          "base_uri": "https://localhost:8080/"
        }
      },
      "execution_count": 12,
      "outputs": [
        {
          "output_type": "execute_result",
          "data": {
            "text/plain": [
              "0.4753678981759535"
            ]
          },
          "metadata": {},
          "execution_count": 12
        }
      ]
    },
    {
      "cell_type": "code",
      "source": [
        "data_scoring_boost = pd.read_csv('data_scoring.csv', index_col='track_id')\n",
        "data_scoring_boost.head()"
      ],
      "metadata": {
        "colab": {
          "base_uri": "https://localhost:8080/",
          "height": 406
        },
        "id": "fXhUU1Dqo4ao",
        "outputId": "467697ca-9a48-4e6d-e014-b5d4d55af99d"
      },
      "execution_count": 13,
      "outputs": [
        {
          "output_type": "execute_result",
          "data": {
            "text/plain": [
              "                           artist_name                       track_name  \\\n",
              "track_id                                                                  \n",
              "6D8WgDaIuyirn6egGauzVK          RITUAL                     Love Me Back   \n",
              "7ywsuXRTQ9xNKhZSmSD3Q0  Dalton Mauldin               Nights Without You   \n",
              "1eoGO19WEflJbAV8BLebhr        Pandrezz                            Orion   \n",
              "3G79AJm9H5lKnngSgBT21L         Mc Davi                    Ela Tá Que Tá   \n",
              "2htWos5rGxFWSfLTyvpymm          G-Eazy  But A Dream - Alex Lustig Remix   \n",
              "\n",
              "                        acousticness  danceability  duration_ms  energy  \\\n",
              "track_id                                                                  \n",
              "6D8WgDaIuyirn6egGauzVK         0.498         0.745       178233   0.664   \n",
              "7ywsuXRTQ9xNKhZSmSD3Q0         0.221         0.539       157751   0.536   \n",
              "1eoGO19WEflJbAV8BLebhr         0.805         0.684       152000   0.255   \n",
              "3G79AJm9H5lKnngSgBT21L         0.128         0.750       206829   0.418   \n",
              "2htWos5rGxFWSfLTyvpymm         0.401         0.563       198058   0.633   \n",
              "\n",
              "                        instrumentalness  key  liveness  loudness  mode  \\\n",
              "track_id                                                                  \n",
              "6D8WgDaIuyirn6egGauzVK          0.000008    1    0.0777    -4.280     1   \n",
              "7ywsuXRTQ9xNKhZSmSD3Q0          0.000000    5    0.4940    -8.722     1   \n",
              "1eoGO19WEflJbAV8BLebhr          0.790000   10    0.0884    -9.381     0   \n",
              "3G79AJm9H5lKnngSgBT21L          0.000000    0    0.1280   -10.011     1   \n",
              "2htWos5rGxFWSfLTyvpymm          0.000000    5    0.1090    -6.252     0   \n",
              "\n",
              "                        speechiness    tempo  time_signature  valence  \n",
              "track_id                                                               \n",
              "6D8WgDaIuyirn6egGauzVK       0.0613  108.067               4    0.468  \n",
              "7ywsuXRTQ9xNKhZSmSD3Q0       0.0552  183.784               4    0.725  \n",
              "1eoGO19WEflJbAV8BLebhr       0.0445   84.226               4    0.330  \n",
              "3G79AJm9H5lKnngSgBT21L       0.0496  123.007               4    0.253  \n",
              "2htWos5rGxFWSfLTyvpymm       0.2700  156.000               4    0.306  "
            ],
            "text/html": [
              "\n",
              "  <div id=\"df-c9f61561-2e52-4a68-b4c2-9e31d5c4a42f\">\n",
              "    <div class=\"colab-df-container\">\n",
              "      <div>\n",
              "<style scoped>\n",
              "    .dataframe tbody tr th:only-of-type {\n",
              "        vertical-align: middle;\n",
              "    }\n",
              "\n",
              "    .dataframe tbody tr th {\n",
              "        vertical-align: top;\n",
              "    }\n",
              "\n",
              "    .dataframe thead th {\n",
              "        text-align: right;\n",
              "    }\n",
              "</style>\n",
              "<table border=\"1\" class=\"dataframe\">\n",
              "  <thead>\n",
              "    <tr style=\"text-align: right;\">\n",
              "      <th></th>\n",
              "      <th>artist_name</th>\n",
              "      <th>track_name</th>\n",
              "      <th>acousticness</th>\n",
              "      <th>danceability</th>\n",
              "      <th>duration_ms</th>\n",
              "      <th>energy</th>\n",
              "      <th>instrumentalness</th>\n",
              "      <th>key</th>\n",
              "      <th>liveness</th>\n",
              "      <th>loudness</th>\n",
              "      <th>mode</th>\n",
              "      <th>speechiness</th>\n",
              "      <th>tempo</th>\n",
              "      <th>time_signature</th>\n",
              "      <th>valence</th>\n",
              "    </tr>\n",
              "    <tr>\n",
              "      <th>track_id</th>\n",
              "      <th></th>\n",
              "      <th></th>\n",
              "      <th></th>\n",
              "      <th></th>\n",
              "      <th></th>\n",
              "      <th></th>\n",
              "      <th></th>\n",
              "      <th></th>\n",
              "      <th></th>\n",
              "      <th></th>\n",
              "      <th></th>\n",
              "      <th></th>\n",
              "      <th></th>\n",
              "      <th></th>\n",
              "      <th></th>\n",
              "    </tr>\n",
              "  </thead>\n",
              "  <tbody>\n",
              "    <tr>\n",
              "      <th>6D8WgDaIuyirn6egGauzVK</th>\n",
              "      <td>RITUAL</td>\n",
              "      <td>Love Me Back</td>\n",
              "      <td>0.498</td>\n",
              "      <td>0.745</td>\n",
              "      <td>178233</td>\n",
              "      <td>0.664</td>\n",
              "      <td>0.000008</td>\n",
              "      <td>1</td>\n",
              "      <td>0.0777</td>\n",
              "      <td>-4.280</td>\n",
              "      <td>1</td>\n",
              "      <td>0.0613</td>\n",
              "      <td>108.067</td>\n",
              "      <td>4</td>\n",
              "      <td>0.468</td>\n",
              "    </tr>\n",
              "    <tr>\n",
              "      <th>7ywsuXRTQ9xNKhZSmSD3Q0</th>\n",
              "      <td>Dalton Mauldin</td>\n",
              "      <td>Nights Without You</td>\n",
              "      <td>0.221</td>\n",
              "      <td>0.539</td>\n",
              "      <td>157751</td>\n",
              "      <td>0.536</td>\n",
              "      <td>0.000000</td>\n",
              "      <td>5</td>\n",
              "      <td>0.4940</td>\n",
              "      <td>-8.722</td>\n",
              "      <td>1</td>\n",
              "      <td>0.0552</td>\n",
              "      <td>183.784</td>\n",
              "      <td>4</td>\n",
              "      <td>0.725</td>\n",
              "    </tr>\n",
              "    <tr>\n",
              "      <th>1eoGO19WEflJbAV8BLebhr</th>\n",
              "      <td>Pandrezz</td>\n",
              "      <td>Orion</td>\n",
              "      <td>0.805</td>\n",
              "      <td>0.684</td>\n",
              "      <td>152000</td>\n",
              "      <td>0.255</td>\n",
              "      <td>0.790000</td>\n",
              "      <td>10</td>\n",
              "      <td>0.0884</td>\n",
              "      <td>-9.381</td>\n",
              "      <td>0</td>\n",
              "      <td>0.0445</td>\n",
              "      <td>84.226</td>\n",
              "      <td>4</td>\n",
              "      <td>0.330</td>\n",
              "    </tr>\n",
              "    <tr>\n",
              "      <th>3G79AJm9H5lKnngSgBT21L</th>\n",
              "      <td>Mc Davi</td>\n",
              "      <td>Ela Tá Que Tá</td>\n",
              "      <td>0.128</td>\n",
              "      <td>0.750</td>\n",
              "      <td>206829</td>\n",
              "      <td>0.418</td>\n",
              "      <td>0.000000</td>\n",
              "      <td>0</td>\n",
              "      <td>0.1280</td>\n",
              "      <td>-10.011</td>\n",
              "      <td>1</td>\n",
              "      <td>0.0496</td>\n",
              "      <td>123.007</td>\n",
              "      <td>4</td>\n",
              "      <td>0.253</td>\n",
              "    </tr>\n",
              "    <tr>\n",
              "      <th>2htWos5rGxFWSfLTyvpymm</th>\n",
              "      <td>G-Eazy</td>\n",
              "      <td>But A Dream - Alex Lustig Remix</td>\n",
              "      <td>0.401</td>\n",
              "      <td>0.563</td>\n",
              "      <td>198058</td>\n",
              "      <td>0.633</td>\n",
              "      <td>0.000000</td>\n",
              "      <td>5</td>\n",
              "      <td>0.1090</td>\n",
              "      <td>-6.252</td>\n",
              "      <td>0</td>\n",
              "      <td>0.2700</td>\n",
              "      <td>156.000</td>\n",
              "      <td>4</td>\n",
              "      <td>0.306</td>\n",
              "    </tr>\n",
              "  </tbody>\n",
              "</table>\n",
              "</div>\n",
              "      <button class=\"colab-df-convert\" onclick=\"convertToInteractive('df-c9f61561-2e52-4a68-b4c2-9e31d5c4a42f')\"\n",
              "              title=\"Convert this dataframe to an interactive table.\"\n",
              "              style=\"display:none;\">\n",
              "        \n",
              "  <svg xmlns=\"http://www.w3.org/2000/svg\" height=\"24px\"viewBox=\"0 0 24 24\"\n",
              "       width=\"24px\">\n",
              "    <path d=\"M0 0h24v24H0V0z\" fill=\"none\"/>\n",
              "    <path d=\"M18.56 5.44l.94 2.06.94-2.06 2.06-.94-2.06-.94-.94-2.06-.94 2.06-2.06.94zm-11 1L8.5 8.5l.94-2.06 2.06-.94-2.06-.94L8.5 2.5l-.94 2.06-2.06.94zm10 10l.94 2.06.94-2.06 2.06-.94-2.06-.94-.94-2.06-.94 2.06-2.06.94z\"/><path d=\"M17.41 7.96l-1.37-1.37c-.4-.4-.92-.59-1.43-.59-.52 0-1.04.2-1.43.59L10.3 9.45l-7.72 7.72c-.78.78-.78 2.05 0 2.83L4 21.41c.39.39.9.59 1.41.59.51 0 1.02-.2 1.41-.59l7.78-7.78 2.81-2.81c.8-.78.8-2.07 0-2.86zM5.41 20L4 18.59l7.72-7.72 1.47 1.35L5.41 20z\"/>\n",
              "  </svg>\n",
              "      </button>\n",
              "      \n",
              "  <style>\n",
              "    .colab-df-container {\n",
              "      display:flex;\n",
              "      flex-wrap:wrap;\n",
              "      gap: 12px;\n",
              "    }\n",
              "\n",
              "    .colab-df-convert {\n",
              "      background-color: #E8F0FE;\n",
              "      border: none;\n",
              "      border-radius: 50%;\n",
              "      cursor: pointer;\n",
              "      display: none;\n",
              "      fill: #1967D2;\n",
              "      height: 32px;\n",
              "      padding: 0 0 0 0;\n",
              "      width: 32px;\n",
              "    }\n",
              "\n",
              "    .colab-df-convert:hover {\n",
              "      background-color: #E2EBFA;\n",
              "      box-shadow: 0px 1px 2px rgba(60, 64, 67, 0.3), 0px 1px 3px 1px rgba(60, 64, 67, 0.15);\n",
              "      fill: #174EA6;\n",
              "    }\n",
              "\n",
              "    [theme=dark] .colab-df-convert {\n",
              "      background-color: #3B4455;\n",
              "      fill: #D2E3FC;\n",
              "    }\n",
              "\n",
              "    [theme=dark] .colab-df-convert:hover {\n",
              "      background-color: #434B5C;\n",
              "      box-shadow: 0px 1px 3px 1px rgba(0, 0, 0, 0.15);\n",
              "      filter: drop-shadow(0px 1px 2px rgba(0, 0, 0, 0.3));\n",
              "      fill: #FFFFFF;\n",
              "    }\n",
              "  </style>\n",
              "\n",
              "      <script>\n",
              "        const buttonEl =\n",
              "          document.querySelector('#df-c9f61561-2e52-4a68-b4c2-9e31d5c4a42f button.colab-df-convert');\n",
              "        buttonEl.style.display =\n",
              "          google.colab.kernel.accessAllowed ? 'block' : 'none';\n",
              "\n",
              "        async function convertToInteractive(key) {\n",
              "          const element = document.querySelector('#df-c9f61561-2e52-4a68-b4c2-9e31d5c4a42f');\n",
              "          const dataTable =\n",
              "            await google.colab.kernel.invokeFunction('convertToInteractive',\n",
              "                                                     [key], {});\n",
              "          if (!dataTable) return;\n",
              "\n",
              "          const docLinkHtml = 'Like what you see? Visit the ' +\n",
              "            '<a target=\"_blank\" href=https://colab.research.google.com/notebooks/data_table.ipynb>data table notebook</a>'\n",
              "            + ' to learn more about interactive tables.';\n",
              "          element.innerHTML = '';\n",
              "          dataTable['output_type'] = 'display_data';\n",
              "          await google.colab.output.renderOutput(dataTable, element);\n",
              "          const docLink = document.createElement('div');\n",
              "          docLink.innerHTML = docLinkHtml;\n",
              "          element.appendChild(docLink);\n",
              "        }\n",
              "      </script>\n",
              "    </div>\n",
              "  </div>\n",
              "  "
            ]
          },
          "metadata": {},
          "execution_count": 13
        }
      ]
    },
    {
      "cell_type": "code",
      "source": [
        "data_scoring_boost = data_scoring_boost.drop('track_name', 1)"
      ],
      "metadata": {
        "colab": {
          "base_uri": "https://localhost:8080/"
        },
        "id": "nKHHFBQkpiWz",
        "outputId": "4d7c5849-f77a-47e8-d06c-149ecc72f5e9"
      },
      "execution_count": 15,
      "outputs": [
        {
          "output_type": "stream",
          "name": "stderr",
          "text": [
            "<ipython-input-15-36acc5043488>:1: FutureWarning: In a future version of pandas all arguments of DataFrame.drop except for the argument 'labels' will be keyword-only.\n",
            "  data_scoring_boost = data_scoring_boost.drop('track_name', 1)\n"
          ]
        }
      ]
    },
    {
      "cell_type": "code",
      "source": [
        "scoring_preds = boost_model.predict(data_scoring_boost)\n",
        "submission_boost = pd.Series(scoring_preds, index=data_scoring_boost.index, name='popularity')\n",
        "submission_boost.head()"
      ],
      "metadata": {
        "colab": {
          "base_uri": "https://localhost:8080/"
        },
        "id": "pZkP6oFXpJBQ",
        "outputId": "9317482e-a981-49fb-af59-c9a1b7f9e9d4"
      },
      "execution_count": 18,
      "outputs": [
        {
          "output_type": "execute_result",
          "data": {
            "text/plain": [
              "track_id\n",
              "6D8WgDaIuyirn6egGauzVK    27.428564\n",
              "7ywsuXRTQ9xNKhZSmSD3Q0    22.299190\n",
              "1eoGO19WEflJbAV8BLebhr    32.816482\n",
              "3G79AJm9H5lKnngSgBT21L    39.375532\n",
              "2htWos5rGxFWSfLTyvpymm    52.419782\n",
              "Name: popularity, dtype: float64"
            ]
          },
          "metadata": {},
          "execution_count": 18
        }
      ]
    },
    {
      "cell_type": "code",
      "source": [
        "submission_boost.to_csv('catboost_submission.csv')"
      ],
      "metadata": {
        "id": "wP_jIuFzqE8G"
      },
      "execution_count": 19,
      "outputs": []
    }
  ]
}